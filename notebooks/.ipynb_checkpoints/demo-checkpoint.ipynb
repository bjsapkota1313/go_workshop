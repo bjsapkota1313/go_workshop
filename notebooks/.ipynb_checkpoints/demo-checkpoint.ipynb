{
 "cells": [
  {
   "cell_type": "code",
   "execution_count": 9,
   "id": "edea831b-1ace-4fff-b299-e21371605c50",
   "metadata": {
    "is_executing": true
   },
   "outputs": [],
   "source": [
    "import (\n",
    "\t\"context\"\n",
    "\t\"fmt\"\n",
    "\t\"os\"\n",
    "\t\"github.com/rocketlaunchr/dataframe-go/imports\"\n",
    ")\n",
    "\n",
    "func displayData() {\n",
    "\t// Open the file\n",
    "\tfile, err := os.Open(\"gopher_locations.csv\")\n",
    "\tif err != nil {\n",
    "\t\tpanic(err)\n",
    "\t}\n",
    "\tdefer file.Close()\n",
    "\n",
    "\t// Load data from CSV file\n",
    "\tdf, err := imports.LoadFromCSV(context.Background(), file)\n",
    "\tif err != nil {\n",
    "\t\tpanic(err)\n",
    "\t}\n",
    "\n",
    "\t// Print the DataFrame\n",
    "\tfmt.Print(df.Table())\n",
    "}"
   ]
  },
  {
   "cell_type": "code",
   "execution_count": 17,
   "id": "8589abcb-36fc-4003-b308-87b6e18c8581",
   "metadata": {},
   "outputs": [
    {
     "data": {
      "text/html": [
       "\n",
       "<style>\n",
       ".gonb-err-location {\n",
       "\tbackground: var(--jp-err-color2);  \n",
       "\tborder-radius: 3px;\n",
       "\tborder-style: dotted;\n",
       "\tborder-width: 1px;\n",
       "\tborder-color: var(--jp-border-color2);\n",
       "}\n",
       ".gonb-err-location:hover {\n",
       "\tborder-width: 2px;\n",
       "\tborder-style: solid;\n",
       "\tborder-color: var(--jp-border-color2);\n",
       "}\n",
       ".gonb-err-context {\n",
       "\tdisplay: none;\n",
       "}\n",
       ".gonb-err-location:hover + .gonb-err-context {\n",
       "\tbackground: var(--jp-dialog-background);  \n",
       "\tborder-radius: 3px;\n",
       "\tborder-style: solid;\n",
       "\tborder-width: 1px;\n",
       "\tborder-color: var(--jp-border-color2);\n",
       "\tdisplay: block;\n",
       "\twhite-space: pre;\n",
       "\tfont-family: monospace;\n",
       "}\n",
       ".gonb-err-line {\n",
       "\tborder-radius: 3px;\n",
       "\tborder-style: dotted;\n",
       "\tborder-width: 1px;\t\n",
       "\tborder-color: var(--jp-border-color2);\n",
       "\tbackground-color: var(--jp-rendermime-err-background);\n",
       "\tfont-weight: bold;\n",
       "}\n",
       ".gonb-cell-line-info {\n",
       "\tbackground: var(--jp-layout-color2);\n",
       "\tcolor: #999;\n",
       "\tmargin: 0.1em;\n",
       "\tborder: 1px solid var(--jp-border-color1);\n",
       "\tpadding-left: 0.2em;\n",
       "\tpadding-right: 0.2em;\n",
       "}\n",
       "</style>\n",
       "<div class=\"lm-Widget p-Widget lm-Panel p-Panel jp-OutputArea-child\">\n",
       "<div class=\"lm-Widget p-Widget jp-RenderedText jp-mod-trusted jp-OutputArea-output\" data-mime-type=\"application/vnd.jupyter.stderr\" style=\"font-family: monospace;\">\n",
       "\n",
       "<span class=\"gonb-cell-line-info\">Cell[17]: Line 42</span>\n",
       "<span class=\"gonb-err-location\">/tmp/gonb_1cfb367f/main.go:44:1: </span> expected declaration, found main\n",
       "<div class=\"gonb-err-context\">\n",
       "\n",
       "}\n",
       "\n",
       "<div class=\"gonb-err-line\">main()\n",
       "</div>\n",
       "\n",
       "</div>\n",
       "\n",
       "<br/>\n",
       "\n",
       "</div>\n"
      ]
     },
     "metadata": {},
     "output_type": "display_data"
    },
    {
     "ename": "ERROR",
     "evalue": "parsing go files in TempDir \"/tmp/gonb_1cfb367f\": /tmp/gonb_1cfb367f/main.go:44:1: expected declaration, found main",
     "output_type": "error",
     "traceback": [
      "parsing go files in TempDir \"/tmp/gonb_1cfb367f\": /tmp/gonb_1cfb367f/main.go:44:1: expected declaration, found main"
     ]
    }
   ],
   "source": []
  },
  {
   "cell_type": "code",
   "execution_count": 7,
   "id": "2275b08c-d02e-44de-b942-d7d017b502cf",
   "metadata": {},
   "outputs": [
    {
     "name": "stdout",
     "output_type": "stream",
     "text": [
      "+-----+-------+---------+\n",
      "|     |  DAY  |  SALES  |\n",
      "+-----+-------+---------+\n",
      "| 0:  |   1   |  50.3   |\n",
      "| 1:  |   2   |  23.4   |\n",
      "| 2:  |   3   |  56.2   |\n",
      "| 3:  |   4   |   NaN   |\n",
      "| 4:  |   5   |   NaN   |\n",
      "| 5:  |   6   |  84.2   |\n",
      "| 6:  |   7   |   72    |\n",
      "| 7:  |   8   |   89    |\n",
      "+-----+-------+---------+\n",
      "| 8X2 | INT64 | FLOAT64 |\n",
      "+-----+-------+---------+\n"
     ]
    }
   ],
   "source": [
    "import \"github.com/rocketlaunchr/dataframe-go\"\n",
    "import \"fmt\"\n",
    "\n",
    "func main() {\n",
    "    s1 := dataframe.NewSeriesInt64(\"day\", nil, 1, 2, 3, 4, 5, 6, 7, 8)\n",
    "    s2 := dataframe.NewSeriesFloat64(\"sales\", nil, 50.3, 23.4, 56.2, nil, nil, 84.2, 72, 89)\n",
    "    df := dataframe.NewDataFrame(s1, s2)\n",
    "\n",
    "    fmt.Print(df.Table())\n",
    "}"
   ]
  },
  {
   "cell_type": "code",
   "execution_count": null,
   "id": "3b4164a9-6445-4022-b21b-3dcad349c351",
   "metadata": {},
   "outputs": [],
   "source": []
  }
 ],
 "metadata": {
  "kernelspec": {
   "display_name": "Go (gonb)",
   "language": "go",
   "name": "gonb"
  },
  "language_info": {
   "codemirror_mode": "",
   "file_extension": ".go",
   "mimetype": "",
   "name": "go",
   "nbconvert_exporter": "",
   "pygments_lexer": "",
   "version": "go1.22.2"
  }
 },
 "nbformat": 4,
 "nbformat_minor": 5
}
