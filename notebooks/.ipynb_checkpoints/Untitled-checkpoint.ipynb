{
 "cells": [
  {
   "cell_type": "code",
   "execution_count": null,
   "metadata": {},
   "outputs": [],
   "source": []
  },
  {
   "cell_type": "code",
   "execution_count": 1,
   "metadata": {},
   "outputs": [],
   "source": [
    "import (\"fmt\")\n",
    "\n",
    "func main() {\n",
    "  var i,j string = \"Bijay \",\"Sapkota\"\n",
    "\n",
    "  fmt.Print(i)\n",
    "  fmt.Print(j)\n",
    "}"
   ]
  },
  {
   "cell_type": "code",
   "execution_count": 2,
   "metadata": {},
   "outputs": [
    {
     "name": "stdout",
     "output_type": "stream",
     "text": [
      "Bijay Sapkota"
     ]
    }
   ],
   "source": [
    "main()"
   ]
  },
  {
   "cell_type": "code",
   "execution_count": 3,
   "metadata": {},
   "outputs": [
    {
     "name": "stderr",
     "output_type": "stream",
     "text": [
      "4:2: could not import github.com/sjwhitworth/golearn/knn (open /lgo/pkg/github.com/sjwhitworth/golearn/knn.a: no such file or directory)\n"
     ]
    }
   ],
   "source": [
    "import (\n",
    "\t\"fmt\"\n",
    "\n",
    "\t\"github.com/sjwhitworth/golearn/knn\"\n",
    ")"
   ]
  },
  {
   "cell_type": "code",
   "execution_count": null,
   "metadata": {},
   "outputs": [],
   "source": [
    "import (\n",
    "\t\"fmt\"\n",
    "    \"github.com/go-gota/gota/dataframe\"\n",
    ")\n",
    "\n",
    "\n",
    "type User struct {\n",
    "\tName     string\n",
    "\tAge      int\n",
    "\tAccuracy float64\n",
    "    ignored  bool // ignored since unexported\n",
    "}\n",
    "users := []User{\n",
    "\t{\"Aram\", 17, 0.2, true},\n",
    "\t{\"Juan\", 18, 0.8, true},\n",
    "\t{\"Ana\", 22, 0.5, true},\n",
    "}\n",
    "df := dataframe.LoadStructs(users)"
   ]
  },
  {
   "cell_type": "code",
   "execution_count": 12,
   "metadata": {},
   "outputs": [
    {
     "name": "stderr",
     "output_type": "stream",
     "text": [
      "6:5: could not import github.com/wcharczuk/go-chart/v2 (open /lgo/pkg/github.com/wcharczuk/go-chart/v2.a: no such file or directory)\n",
      "9:10: undeclared name: chart\n",
      "10:15: undeclared name: chart\n",
      "11:9: undeclared name: chart\n",
      "19:21: undeclared name: chart\n"
     ]
    }
   ],
   "source": [
    "\n",
    "import (\n",
    "\n",
    "    \"bytes\"\n",
    "\n",
    "    \"github.com/wcharczuk/go-chart/v2\" //exposes \"chart\"\n",
    ")\n",
    "\n",
    "graph := chart.Chart{\n",
    "    Series: []chart.Series{\n",
    "        chart.ContinuousSeries{\n",
    "            XValues: []float64{1.0, 2.0, 3.0, 4.0},\n",
    "            YValues: []float64{1.0, 2.0, 3.0, 4.0},\n",
    "        },\n",
    "    },\n",
    "}\n",
    "\n",
    "buffer := bytes.NewBuffer([]byte{})\n",
    "err := graph.Render(chart.PNG, buffer)"
   ]
  },
  {
   "cell_type": "code",
   "execution_count": 4,
   "metadata": {},
   "outputs": [],
   "source": [
    "\n",
    "\n",
    "import (\n",
    "\t\"os/exec\"\n",
    "\t\"fmt\"\n",
    ")\n",
    "\n",
    "func doesPackageExist(packageName string) {\n",
    "\tcmd := exec.Command(\"go\", \"list\", packageName)\n",
    "\tif err := cmd.Run(); err != nil {\n",
    "\t\tfmt.Printf(\"Package %s does not exist\\n\", packageName)\n",
    "\t} else {\n",
    "\t\tfmt.Printf(\"Package %s exists\\n\", packageName)\n",
    "\t}\n",
    "}"
   ]
  },
  {
   "cell_type": "code",
   "execution_count": 6,
   "metadata": {},
   "outputs": [
    {
     "name": "stdout",
     "output_type": "stream",
     "text": [
      "Package github.com/sjwhitworth/golearn exists\n"
     ]
    }
   ],
   "source": [
    "doesPackageExist(\"github.com/sjwhitworth/golearn\")"
   ]
  },
  {
   "cell_type": "code",
   "execution_count": 1,
   "metadata": {},
   "outputs": [
    {
     "data": {
      "text/html": [
       "\n",
       "<style>\n",
       ".gonb-err-location {\n",
       "\tbackground: var(--jp-err-color2);  \n",
       "\tborder-radius: 3px;\n",
       "\tborder-style: dotted;\n",
       "\tborder-width: 1px;\n",
       "\tborder-color: var(--jp-border-color2);\n",
       "}\n",
       ".gonb-err-location:hover {\n",
       "\tborder-width: 2px;\n",
       "\tborder-style: solid;\n",
       "\tborder-color: var(--jp-border-color2);\n",
       "}\n",
       ".gonb-err-context {\n",
       "\tdisplay: none;\n",
       "}\n",
       ".gonb-err-location:hover + .gonb-err-context {\n",
       "\tbackground: var(--jp-dialog-background);  \n",
       "\tborder-radius: 3px;\n",
       "\tborder-style: solid;\n",
       "\tborder-width: 1px;\n",
       "\tborder-color: var(--jp-border-color2);\n",
       "\tdisplay: block;\n",
       "\twhite-space: pre;\n",
       "\tfont-family: monospace;\n",
       "}\n",
       ".gonb-err-line {\n",
       "\tborder-radius: 3px;\n",
       "\tborder-style: dotted;\n",
       "\tborder-width: 1px;\t\n",
       "\tborder-color: var(--jp-border-color2);\n",
       "\tbackground-color: var(--jp-rendermime-err-background);\n",
       "\tfont-weight: bold;\n",
       "}\n",
       ".gonb-cell-line-info {\n",
       "\tbackground: var(--jp-layout-color2);\n",
       "\tcolor: #999;\n",
       "\tmargin: 0.1em;\n",
       "\tborder: 1px solid var(--jp-border-color1);\n",
       "\tpadding-left: 0.2em;\n",
       "\tpadding-right: 0.2em;\n",
       "}\n",
       "</style>\n",
       "<div class=\"lm-Widget p-Widget lm-Panel p-Panel jp-OutputArea-child\">\n",
       "<div class=\"lm-Widget p-Widget jp-RenderedText jp-mod-trusted jp-OutputArea-output\" data-mime-type=\"application/vnd.jupyter.stderr\" style=\"font-family: monospace;\">\n",
       "\n",
       "\n",
       "<span style=\"white-space: pre;\"> # github.com/sjwhitworth/golearn/knn</span>\n",
       "\n",
       "<br/>\n",
       "\n",
       "\n",
       "<span style=\"white-space: pre;\"> /opt/go/pkg/mod/github.com/sjwhitworth/golearn@v0.0.0-20221228163002-74ae077eafb2/knn/knn.go:132:16: KNN.optimisedEuclideanPredict undefined (type *KNNClassifier has no field or method optimisedEuclideanPredict)</span>\n",
       "\n",
       "<br/>\n",
       "\n",
       "\n",
       "<span style=\"white-space: pre;\"> </span>\n",
       "\n",
       "<br/>\n",
       "\n",
       "</div>\n"
      ]
     },
     "metadata": {},
     "output_type": "display_data"
    },
    {
     "ename": "ERROR",
     "evalue": "failed to run \"/usr/local/go/bin/go build -o /tmp/gonb_db0c22b1/gonb_db0c22b1\": exit status 1",
     "output_type": "error",
     "traceback": [
      "failed to run \"/usr/local/go/bin/go build -o /tmp/gonb_db0c22b1/gonb_db0c22b1\": exit status 1"
     ]
    }
   ],
   "source": [
    "import (\n",
    "\t\"fmt\"\n",
    "\t\"github.com/sjwhitworth/golearn/base\"\n",
    "\t\"github.com/sjwhitworth/golearn/evaluation\"\n",
    "\t\"github.com/sjwhitworth/golearn/knn\"\n",
    ")\n",
    "\n",
    "func main() {\n",
    "\trawData, err := base.ParseCSVToInstances(\"iris_headers.csv\", true)\n",
    "\tif err != nil {\n",
    "\t\tpanic(err)\n",
    "\t}\n",
    "\n",
    "\t//Initialises a new KNN classifier\n",
    "\tcls := knn.NewKnnClassifier(\"euclidean\", \"linear\", 2)\n",
    "\n",
    "\t//Do a training-test split\n",
    "\ttrainData, testData := base.InstancesTrainTestSplit(rawData, 0.50)\n",
    "\tcls.Fit(trainData)\n",
    "\n",
    "\t//Calculates the Euclidean distance and returns the most popular label\n",
    "\tpredictions, err := cls.Predict(testData)\n",
    "\tif err != nil {\n",
    "\t\tpanic(err)\n",
    "\t}\n",
    "\tfmt.Println(predictions)\n",
    "\n",
    "\t// Prints precision/recall metrics\n",
    "\tconfusionMat, err := evaluation.GetConfusionMatrix(testData, predictions)\n",
    "\tif err != nil {\n",
    "\t\tpanic(fmt.Sprintf(\"Unable to get confusion matrix: %s\", err.Error()))\n",
    "\t}\n",
    "\tfmt.Println(evaluation.GetSummary(confusionMat))\n",
    "}"
   ]
  },
  {
   "cell_type": "code",
   "execution_count": null,
   "metadata": {},
   "outputs": [],
   "source": [
    "\n",
    "import (\n",
    "\t\"encoding/json\"\n",
    "\t\"fmt\"\n",
    "\t\"github.com/sjwhitworth/golearn/base\"\n",
    ")\n",
    "\n",
    "func main() {\n",
    "\n",
    "\t// Load in the iris dataset\n",
    "\tiris, err := base.ParseCSVToInstances(\"iris_headers.csv\", true)\n",
    "\tif err != nil {\n",
    "\t\tpanic(err)\n",
    "\t}\n",
    "\n",
    "\tfor _, a := range iris.AllAttributes() {\n",
    "\t\t// var ac base.CategoricalAttribute\n",
    "\t\tvar af base.FloatAttribute\n",
    "\t\ts, err := json.Marshal(a)\n",
    "\t\tif err != nil {\n",
    "\t\t\tpanic(err)\n",
    "\t\t}\n",
    "\t\tfmt.Println(string(s))\n",
    "\t\terr = json.Unmarshal(s, &af)\n",
    "\t\tfmt.Println(af.String())\n",
    "\t\t// err = json.Unmarshal(s, &ac)\n",
    "\t\t// fmt.Println(ac.String())\n",
    "\t}\n",
    "}"
   ]
  },
  {
   "cell_type": "code",
   "execution_count": 4,
   "metadata": {},
   "outputs": [
    {
     "data": {
      "text/html": [
       "\n",
       "<style>\n",
       ".gonb-err-location {\n",
       "\tbackground: var(--jp-err-color2);  \n",
       "\tborder-radius: 3px;\n",
       "\tborder-style: dotted;\n",
       "\tborder-width: 1px;\n",
       "\tborder-color: var(--jp-border-color2);\n",
       "}\n",
       ".gonb-err-location:hover {\n",
       "\tborder-width: 2px;\n",
       "\tborder-style: solid;\n",
       "\tborder-color: var(--jp-border-color2);\n",
       "}\n",
       ".gonb-err-context {\n",
       "\tdisplay: none;\n",
       "}\n",
       ".gonb-err-location:hover + .gonb-err-context {\n",
       "\tbackground: var(--jp-dialog-background);  \n",
       "\tborder-radius: 3px;\n",
       "\tborder-style: solid;\n",
       "\tborder-width: 1px;\n",
       "\tborder-color: var(--jp-border-color2);\n",
       "\tdisplay: block;\n",
       "\twhite-space: pre;\n",
       "\tfont-family: monospace;\n",
       "}\n",
       ".gonb-err-line {\n",
       "\tborder-radius: 3px;\n",
       "\tborder-style: dotted;\n",
       "\tborder-width: 1px;\t\n",
       "\tborder-color: var(--jp-border-color2);\n",
       "\tbackground-color: var(--jp-rendermime-err-background);\n",
       "\tfont-weight: bold;\n",
       "}\n",
       ".gonb-cell-line-info {\n",
       "\tbackground: var(--jp-layout-color2);\n",
       "\tcolor: #999;\n",
       "\tmargin: 0.1em;\n",
       "\tborder: 1px solid var(--jp-border-color1);\n",
       "\tpadding-left: 0.2em;\n",
       "\tpadding-right: 0.2em;\n",
       "}\n",
       "</style>\n",
       "<div class=\"lm-Widget p-Widget lm-Panel p-Panel jp-OutputArea-child\">\n",
       "<div class=\"lm-Widget p-Widget jp-RenderedText jp-mod-trusted jp-OutputArea-output\" data-mime-type=\"application/vnd.jupyter.stderr\" style=\"font-family: monospace;\">\n",
       "\n",
       "\n",
       "<span style=\"white-space: pre;\"> # github.com/sjwhitworth/golearn/knn</span>\n",
       "\n",
       "<br/>\n",
       "\n",
       "\n",
       "<span style=\"white-space: pre;\"> /opt/go/pkg/mod/github.com/sjwhitworth/golearn@v0.0.0-20221228163002-74ae077eafb2/knn/knn.go:132:16: KNN.optimisedEuclideanPredict undefined (type *KNNClassifier has no field or method optimisedEuclideanPredict)</span>\n",
       "\n",
       "<br/>\n",
       "\n",
       "\n",
       "<span style=\"white-space: pre;\"> </span>\n",
       "\n",
       "<br/>\n",
       "\n",
       "</div>\n"
      ]
     },
     "metadata": {},
     "output_type": "display_data"
    },
    {
     "ename": "ERROR",
     "evalue": "failed to run \"/usr/local/go/bin/go build -o /tmp/gonb_db0c22b1/gonb_db0c22b1\": exit status 1",
     "output_type": "error",
     "traceback": [
      "failed to run \"/usr/local/go/bin/go build -o /tmp/gonb_db0c22b1/gonb_db0c22b1\": exit status 1"
     ]
    }
   ],
   "source": [
    "import (\n",
    "\t\"fmt\"\n",
    "\t\"github.com/sjwhitworth/golearn/base\"\n",
    "\t\"github.com/sjwhitworth/golearn/evaluation\"\n",
    "\t\"github.com/sjwhitworth/golearn/knn\"\n",
    ")\n",
    "\n",
    "func main() {\n",
    "\trawData, err := base.ParseCSVToInstances(\"iris_headers.csv\", true)\n",
    "\tif err != nil {\n",
    "\t\tpanic(err)\n",
    "\t}\n",
    "\n",
    "\t//Initialises a new KNN classifier\n",
    "\tcls := knn.NewKnnClassifier(\"euclidean\", \"linear\", 2)\n",
    "\n",
    "\t//Do a training-test split\n",
    "\ttrainData, testData := base.InstancesTrainTestSplit(rawData, 0.50)\n",
    "\tcls.Fit(trainData)\n",
    "\n",
    "\t//Calculates the Euclidean distance and returns the most popular label\n",
    "\tpredictions, err := cls.Predict(testData)\n",
    "\tif err != nil {\n",
    "\t\tpanic(err)\n",
    "\t}\n",
    "\tfmt.Println(predictions)\n",
    "\n",
    "\t// Prints precision/recall metrics\n",
    "\tconfusionMat, err := evaluation.GetConfusionMatrix(testData, predictions)\n",
    "\tif err != nil {\n",
    "\t\tpanic(fmt.Sprintf(\"Unable to get confusion matrix: %s\", err.Error()))\n",
    "\t}\n",
    "\tfmt.Println(evaluation.GetSummary(confusionMat))\n",
    "}"
   ]
  },
  {
   "cell_type": "code",
   "execution_count": null,
   "metadata": {},
   "outputs": [],
   "source": []
  }
 ],
 "metadata": {
  "kernelspec": {
   "display_name": "Go (gonb)",
   "language": "go",
   "name": "gonb"
  },
  "language_info": {
   "codemirror_mode": "",
   "file_extension": ".go",
   "mimetype": "",
   "name": "go",
   "nbconvert_exporter": "",
   "pygments_lexer": "",
   "version": "go1.22.2"
  }
 },
 "nbformat": 4,
 "nbformat_minor": 4
}
