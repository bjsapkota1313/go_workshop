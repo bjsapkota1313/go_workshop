{
 "cells": [
  {
   "cell_type": "markdown",
   "id": "e7fe9a00f7fe0126",
   "metadata": {
    "collapsed": false,
    "jupyter": {
     "outputs_hidden": false
    }
   },
   "source": [
    "# Demo For the GoWorkshop"
   ]
  },
  {
   "cell_type": "markdown",
   "id": "3bfe80dab637ad5e",
   "metadata": {
    "collapsed": false,
    "jupyter": {
     "outputs_hidden": false
    }
   },
   "source": [
    "## Linear Regression"
   ]
  },
  {
   "cell_type": "code",
   "execution_count": 17,
   "id": "d94e2a88-3c8b-407b-a388-cdab66eebeb5",
   "metadata": {},
   "outputs": [],
   "source": [
    "import (\n",
    "    \"gonum.org/v1/plot\"\n",
    "    \"gonum.org/v1/plot/plotter\"\n",
    "    \"gonum.org/v1/plot/vg\"\n",
    "    \"gonum.org/v1/plot/vg/draw\"\n",
    "    \"gonum.org/v1/plot/vg/vgimg\"\n",
    "    \"image/color\"\n",
    "    \"github.com/janpfeifer/gonb/gonbui\"\n",
    "    \"context\"\n",
    "\t\"fmt\"\n",
    "\t\"io/ioutil\"\n",
    "\t\"strings\"\n",
    "\t\"github.com/rocketlaunchr/dataframe-go\"\n",
    "\t\"github.com/rocketlaunchr/dataframe-go/imports\"\n",
    "    \"math\"\n",
    "    \"gonum.org/v1/gonum/stat\"\n",
    ")"
   ]
  },
  {
   "cell_type": "markdown",
   "id": "372cdb0e7b616503",
   "metadata": {
    "collapsed": false,
    "jupyter": {
     "outputs_hidden": false
    }
   },
   "source": [
    "### First we need to load the data\n",
    "For this, we will be using dataframe-go Library. With this library we can load the data from a csv file and convert it to a dataframe."
   ]
  },
  {
   "cell_type": "code",
   "execution_count": 16,
   "id": "edea831b-1ace-4fff-b299-e21371605c50",
   "metadata": {
    "is_executing": true
   },
   "outputs": [],
   "source": [
    "var ctx = context.Background()\n",
    "\n",
    "func loadGopherData() *dataframe.DataFrame {\n",
    "\tcontent, err := ioutil.ReadFile(\"gopher_locations.csv\")\n",
    "\tif err != nil {\n",
    "\t\tpanic(err)\n",
    "\t}\n",
    "\n",
    "\t// Convert the content to a string\n",
    "\tcsvString := string(content)\n",
    "\tdf, err := imports.LoadFromCSV(ctx, strings.NewReader(csvString), imports.CSVLoadOptions{InferDataTypes: true, NilValue: &[]string{\"NA\"}[0]})\n",
    "\tif err != nil {\n",
    "\t\tpanic(err)\n",
    "\t}\n",
    "\n",
    "\treturn df\n",
    "}\n",
    "\n",
    "var df = loadGopherData()"
   ]
  },
  {
   "cell_type": "markdown",
   "id": "c3eb3a8134f428b7",
   "metadata": {
    "collapsed": false,
    "jupyter": {
     "outputs_hidden": false
    }
   },
   "source": [
    "### Display the data\n",
    "Let's display the data to see what we are working with.In this step we can also see that the data is loaded correctly or not. For our dataset, we can see that there isn't any missing data or NaN values."
   ]
  },
  {
   "cell_type": "code",
   "execution_count": 18,
   "id": "8589abcb-36fc-4003-b308-87b6e18c8581",
   "metadata": {},
   "outputs": [
    {
     "name": "stdout",
     "output_type": "stream",
     "text": [
      "+-------+---------------------+--------------------+-------------+---------------+----------------+----------+----------------+----------+\n",
      "|       |    LOCATIONNAME     | AVERAGETEMPERATURE | NRPREDATORS | NRFOODSOURCES | NRWATERSOURCES | NRHUMANS | VEGETATIONTYPE | LANDSIZE |\n",
      "+-------+---------------------+--------------------+-------------+---------------+----------------+----------+----------------+----------+\n",
      "|  0:   |    Swampy Marsh     |        5.12        |     16      |       9       |       2        |    36    |    Wetland     |   866    |\n",
      "|  1:   |     Open Plain      |       38.22        |     18      |      15       |       9        |    20    |    Savannah    |   953    |\n",
      "|  2:   |     Marshy Bog      |        7.23        |     15      |       7       |       4        |    48    |    Wetland     |   599    |\n",
      "|  3:   |     Windy Peaks     |        17.1        |     17      |      11       |       5        |    28    |     Hills      |   272    |\n",
      "|  4:   |   Enchanted Glade   |        1.99        |     20      |       4       |       2        |    0     |     Meadow     |   120    |\n",
      "|  5:   |     Green Woods     |       21.19        |     19      |      15       |       8        |    5     |     Forest     |   564    |\n",
      "|  6:   |   Golden Prairie    |        3.62        |     15      |       2       |       2        |    44    |    Savannah    |   123    |\n",
      "|  7:   | Enchanted Grassland |       12.67        |     17      |       6       |       4        |    23    |    Savannah    |    6     |\n",
      "|  8:   |   Enchanted Hills   |        3.08        |     17      |      16       |       6        |    27    |     Hills      |   738    |\n",
      "|  9:   |   Enchanted Field   |       27.46        |     18      |      19       |       10       |    13    |     Fields     |   630    |\n",
      "|  10:  |   Barren Expanse    |       32.18        |     15      |       3       |       0        |    50    |     Desert     |   713    |\n",
      "+-------+---------------------+--------------------+-------------+---------------+----------------+----------+----------------+----------+\n",
      "| 250X8 |       STRING        |      FLOAT64       |    INT64    |     INT64     |     INT64      |  INT64   |     STRING     |  INT64   |\n",
      "+-------+---------------------+--------------------+-------------+---------------+----------------+----------+----------------+----------+\n"
     ]
    }
   ],
   "source": [
    "func displayTheData(df *dataframe.DataFrame) {\n",
    "    // Define the start and end pointers for the range\n",
    "    start := 0\n",
    "    end := 10\n",
    "    rng := &dataframe.Range{Start: &start, End: &end}\n",
    "    \n",
    "    // Create table options with the range\n",
    "    opts := dataframe.TableOptions{R: rng}\n",
    "    \n",
    "    // Print the top 10 rows of the DataFrame\n",
    "    fmt.Print(df.Table(opts))\n",
    "}\n",
    "\n",
    "func main(){\n",
    "    displayTheData(df)\n",
    "   }"
   ]
  },
  {
   "cell_type": "markdown",
   "id": "e92c1dfdb7ee7aa7",
   "metadata": {
    "collapsed": false,
    "jupyter": {
     "outputs_hidden": false
    }
   },
   "source": [
    "### Linear Regression With Golearn\n",
    "In this code cell, we will be using the golearn library to perform linear regression. We will be using the linear_model.LinearRegression struct to create a linear regression model. We will then fit the model to the data using the Fit method. Finally, we will use the Predict method to make predictions on the test data.\n",
    "\n",
    "This didn't work because of the some package and Golang incompatibility."
   ]
  },
  {
   "cell_type": "code",
   "execution_count": 4,
   "id": "997ec619-0d69-4732-be90-6984cac18ec8",
   "metadata": {
    "editable": true,
    "slideshow": {
     "slide_type": ""
    },
    "tags": []
   },
   "outputs": [
    {
     "data": {
      "text/html": [
       "\n",
       "<style>\n",
       ".gonb-err-location {\n",
       "\tbackground: var(--jp-err-color2);  \n",
       "\tborder-radius: 3px;\n",
       "\tborder-style: dotted;\n",
       "\tborder-width: 1px;\n",
       "\tborder-color: var(--jp-border-color2);\n",
       "}\n",
       ".gonb-err-location:hover {\n",
       "\tborder-width: 2px;\n",
       "\tborder-style: solid;\n",
       "\tborder-color: var(--jp-border-color2);\n",
       "}\n",
       ".gonb-err-context {\n",
       "\tdisplay: none;\n",
       "}\n",
       ".gonb-err-location:hover + .gonb-err-context {\n",
       "\tbackground: var(--jp-dialog-background);  \n",
       "\tborder-radius: 3px;\n",
       "\tborder-style: solid;\n",
       "\tborder-width: 1px;\n",
       "\tborder-color: var(--jp-border-color2);\n",
       "\tdisplay: block;\n",
       "\twhite-space: pre;\n",
       "\tfont-family: monospace;\n",
       "}\n",
       ".gonb-err-line {\n",
       "\tborder-radius: 3px;\n",
       "\tborder-style: dotted;\n",
       "\tborder-width: 1px;\t\n",
       "\tborder-color: var(--jp-border-color2);\n",
       "\tbackground-color: var(--jp-rendermime-err-background);\n",
       "\tfont-weight: bold;\n",
       "}\n",
       ".gonb-cell-line-info {\n",
       "\tbackground: var(--jp-layout-color2);\n",
       "\tcolor: #999;\n",
       "\tmargin: 0.1em;\n",
       "\tborder: 1px solid var(--jp-border-color1);\n",
       "\tpadding-left: 0.2em;\n",
       "\tpadding-right: 0.2em;\n",
       "}\n",
       "</style>\n",
       "<div class=\"lm-Widget p-Widget lm-Panel p-Panel jp-OutputArea-child\">\n",
       "<div class=\"lm-Widget p-Widget jp-RenderedText jp-mod-trusted jp-OutputArea-output\" data-mime-type=\"application/vnd.jupyter.stderr\" style=\"font-family: monospace;\">\n",
       "\n",
       "\n",
       "<span style=\"white-space: pre;\"> # github.com/sjwhitworth/golearn/linear_models</span>\n",
       "\n",
       "<br/>\n",
       "\n",
       "\n",
       "<span style=\"white-space: pre;\"> /opt/go/pkg/mod/github.com/sjwhitworth/golearn@v0.0.0-20221228163002-74ae077eafb2/linear_models/logistic.go:10:9: undefined: Parameter</span>\n",
       "\n",
       "<br/>\n",
       "\n",
       "\n",
       "<span style=\"white-space: pre;\"> /opt/go/pkg/mod/github.com/sjwhitworth/golearn@v0.0.0-20221228163002-74ae077eafb2/linear_models/logistic.go:11:9: undefined: Model</span>\n",
       "\n",
       "<br/>\n",
       "\n",
       "\n",
       "<span style=\"white-space: pre;\"> /opt/go/pkg/mod/github.com/sjwhitworth/golearn@v0.0.0-20221228163002-74ae077eafb2/linear_models/logistic.go:17:17: undefined: L2R_LR</span>\n",
       "\n",
       "<br/>\n",
       "\n",
       "\n",
       "<span style=\"white-space: pre;\"> /opt/go/pkg/mod/github.com/sjwhitworth/golearn@v0.0.0-20221228163002-74ae077eafb2/linear_models/logistic.go:19:17: undefined: L1R_LR</span>\n",
       "\n",
       "<br/>\n",
       "\n",
       "\n",
       "<span style=\"white-space: pre;\"> /opt/go/pkg/mod/github.com/sjwhitworth/golearn@v0.0.0-20221228163002-74ae077eafb2/linear_models/logistic.go:25:13: undefined: NewParameter</span>\n",
       "\n",
       "<br/>\n",
       "\n",
       "\n",
       "<span style=\"white-space: pre;\"> /opt/go/pkg/mod/github.com/sjwhitworth/golearn@v0.0.0-20221228163002-74ae077eafb2/linear_models/logistic.go:33:10: undefined: NewProblem</span>\n",
       "\n",
       "<br/>\n",
       "\n",
       "\n",
       "<span style=\"white-space: pre;\"> /opt/go/pkg/mod/github.com/sjwhitworth/golearn@v0.0.0-20221228163002-74ae077eafb2/linear_models/logistic.go:34:13: undefined: Train</span>\n",
       "\n",
       "<br/>\n",
       "\n",
       "\n",
       "<span style=\"white-space: pre;\"> /opt/go/pkg/mod/github.com/sjwhitworth/golearn@v0.0.0-20221228163002-74ae077eafb2/linear_models/logistic.go:58:10: undefined: Predict</span>\n",
       "\n",
       "<br/>\n",
       "\n",
       "\n",
       "<span style=\"white-space: pre;\"> </span>\n",
       "\n",
       "<br/>\n",
       "\n",
       "</div>\n"
      ]
     },
     "metadata": {},
     "output_type": "display_data"
    },
    {
     "ename": "ERROR",
     "evalue": "failed to run \"/usr/local/go/bin/go build -o /tmp/gonb_3e06aa58/gonb_3e06aa58\": exit status 1",
     "output_type": "error",
     "traceback": [
      "failed to run \"/usr/local/go/bin/go build -o /tmp/gonb_3e06aa58/gonb_3e06aa58\": exit status 1"
     ]
    }
   ],
   "source": [
    "import (\n",
    "    \"github.com/sjwhitworth/golearn/base\"\n",
    "    \"github.com/sjwhitworth/golearn/linear_model\"\n",
    "    )\n",
    "\n",
    "func main(){\n",
    "    dataGrid := base.ConvertDataFrameToInstances(df, 0)\n",
    "    // Create a linear regression model\n",
    "    model := linear_models.NewLinearRegression()\n",
    "\n",
    "    // // Fit the model to the data\n",
    "    // err = model.Fit(dataGrid)\n",
    "    // if err != nil {\n",
    "    //     // Handle error\n",
    "    //     return\n",
    "    // }\n",
    "    \n",
    "    \n",
    "}"
   ]
  },
  {
   "cell_type": "markdown",
   "id": "17af361ef0c78c23",
   "metadata": {
    "collapsed": false,
    "jupyter": {
     "outputs_hidden": false
    }
   },
   "source": [
    "### Let's implement the Linear Regression from scratch\n",
    "In this code cell, we will implement the linear regression algorithm from scratch. We will calculate the regression coefficients b0 and b1 using the least squares method. We will then use these coefficients to make predictions on the test data. Finally, we will calculate the RMSE and R-squared values to evaluate the model."
   ]
  },
  {
   "cell_type": "code",
   "execution_count": 27,
   "id": "4b385c47-76d5-4229-ad8e-fec786366f57",
   "metadata": {},
   "outputs": [
    {
     "name": "stdout",
     "output_type": "stream",
     "text": [
      "so our b0 and b1 will be b0=0.2956751255595371 , b1=0.4956023134396279\n",
      "+------+---------+--------------------+----------+\n",
      "|      |    X    |    Y PREDICTED     | Y ACTUAL |\n",
      "+------+---------+--------------------+----------+\n",
      "|  0:  |   12    | 6.242902886835072  |    4     |\n",
      "|  1:  |   12    | 6.242902886835072  |    10    |\n",
      "|  2:  |    7    | 3.7648913196369325 |    1     |\n",
      "|  3:  |    4    | 2.2780843793180487 |    4     |\n",
      "|  4:  |   10    | 5.251698259955816  |    3     |\n",
      "|  5:  |    6    | 3.2692890061973046 |    5     |\n",
      "|  6:  |    0    | 0.2956751255595371 |    0     |\n",
      "|  7:  |    7    | 3.7648913196369325 |    0     |\n",
      "|  8:  |   10    | 5.251698259955816  |    10    |\n",
      "|  9:  |   10    | 5.251698259955816  |    6     |\n",
      "| 10:  |    5    | 2.7736866927576767 |    4     |\n",
      "| 11:  |    8    |  4.26049363307656  |    1     |\n",
      "| 12:  |    6    | 3.2692890061973046 |    4     |\n",
      "| 13:  |    6    | 3.2692890061973046 |    6     |\n",
      "| 14:  |    8    |  4.26049363307656  |    8     |\n",
      "| 15:  |    4    | 2.2780843793180487 |    1     |\n",
      "| 16:  |    9    | 4.756095946516188  |    1     |\n",
      "| 17:  |   11    | 5.747300573395444  |    6     |\n",
      "| 18:  |   17    | 8.720914454033212  |    10    |\n",
      "| 19:  |   10    | 5.251698259955816  |    9     |\n",
      "| 20:  |   18    |  9.21651676747284  |    8     |\n",
      "| 21:  |   15    | 7.729709827153956  |    7     |\n",
      "| 22:  |    8    |  4.26049363307656  |    2     |\n",
      "| 23:  |    6    | 3.2692890061973046 |    3     |\n",
      "| 24:  |   12    | 6.242902886835072  |    2     |\n",
      "| 25:  |    6    | 3.2692890061973046 |    4     |\n",
      "| 26:  |    6    | 3.2692890061973046 |    3     |\n",
      "| 27:  |   13    |  6.7385052002747   |    9     |\n",
      "| 28:  |    4    | 2.2780843793180487 |    2     |\n",
      "| 29:  |   19    | 9.712119080912467  |    10    |\n",
      "| 30:  |    6    | 3.2692890061973046 |    6     |\n",
      "| 31:  |    9    | 4.756095946516188  |    6     |\n",
      "| 32:  |   11    | 5.747300573395444  |    9     |\n",
      "| 33:  |    6    | 3.2692890061973046 |    5     |\n",
      "| 34:  |    3    | 1.7824820658784208 |    3     |\n",
      "| 35:  |   13    |  6.7385052002747   |    6     |\n",
      "| 36:  |   15    | 7.729709827153956  |    5     |\n",
      "| 37:  |   17    | 8.720914454033212  |    7     |\n",
      "| 38:  |   14    | 7.234107513714328  |    5     |\n",
      "| 39:  |   13    |  6.7385052002747   |    3     |\n",
      "| 40:  |    7    | 3.7648913196369325 |    7     |\n",
      "| 41:  |    1    | 0.791277438999165  |    0     |\n",
      "| 42:  |    4    | 2.2780843793180487 |    1     |\n",
      "| 43:  |   12    | 6.242902886835072  |    7     |\n",
      "| 44:  |   20    | 10.207721394352095 |    10    |\n",
      "| 45:  |   19    | 9.712119080912467  |    10    |\n",
      "| 46:  |   14    | 7.234107513714328  |    8     |\n",
      "| 47:  |   18    |  9.21651676747284  |    10    |\n",
      "| 48:  |   16    | 8.225312140593584  |    6     |\n",
      "| 49:  |   19    | 9.712119080912467  |    9     |\n",
      "| 50:  |   16    | 8.225312140593584  |    6     |\n",
      "+------+---------+--------------------+----------+\n",
      "| 51X3 | FLOAT64 |      FLOAT64       | FLOAT64  |\n",
      "+------+---------+--------------------+----------+\n",
      "R-squared: 0.48936400722224604\n"
     ]
    },
    {
     "data": {
      "image/png": "[encoded data removed]"
     },
     "metadata": {},
     "output_type": "display_data"
    }
   ],
   "source": [
    "func main() {\n",
    "    // define the column index for X and y\n",
    "    nrFoodSourcesIndex := 3\n",
    "    nrWaterSourcesIndex := 4\n",
    "\n",
    "    //getting X and Y \n",
    "    X_data, y_data := getXAndYWithColumnIndex(nrFoodSourcesIndex, nrWaterSourcesIndex, df) \n",
    "\n",
    "    // Split the data\n",
    "    test_x, test_y, train_x, train_y := train_test_split(X_data, y_data, 0.80)\n",
    "\n",
    "    // Calculate coefficients\n",
    "    b0, b1 := estimateB0B1(train_x, train_y)\n",
    "    fmt.Printf(\"so our b0 and b1 will be b0=%v , b1=%v\\n\", b0, b1)\n",
    "\n",
    "    // Test the model\n",
    "    prediction := testing(test_x,test_y, b0, b1)\n",
    "\n",
    "    rsquared := rSquared(test_y, prediction)\n",
    "    fmt.Println(\"R-squared:\", rsquared)\n",
    "\n",
    "    // Create a new plot\n",
    "    p, err := createPlot(test_x, test_y, prediction)\n",
    "    \n",
    "    if err != nil {\n",
    "        fmt.Println(\"Error creating plot:\", err)\n",
    "        return\n",
    "    }\n",
    "\n",
    "    //displaying plot \n",
    "    displayPlot(p)\n",
    "}"
   ]
  },
  {
   "cell_type": "markdown",
   "id": "5817bbc5ea9cf70f",
   "metadata": {
    "collapsed": false,
    "jupyter": {
     "outputs_hidden": false
    }
   },
   "source": [
    "#### Implementing the Linear Regression Algorithm\n",
    "First Function we will need is to split the data into training and testing sets. We will use this function to split the data into training and testing sets based on the given train_ratio."
   ]
  },
  {
   "cell_type": "code",
   "execution_count": 19,
   "id": "476a9af46e807290",
   "metadata": {
    "collapsed": false,
    "jupyter": {
     "outputs_hidden": false
    }
   },
   "outputs": [],
   "source": [
    "func train_test_split(x_ []float64, y_ []float64, train_ratio float64) ([]float64, []float64, []float64, []float64) {\n",
    "     if len(x_) != len(y_) {\n",
    "      fmt.Printf(\"Size of X and Y are different :\", len(x_), \" and \", len(y_))\n",
    "     }\n",
    "     var length float64 = float64(len(x_))\n",
    "     pos := int(length * train_ratio)\n",
    "     var test_x = x_[pos-1:]\n",
    "     var test_y = y_[pos-1:]\n",
    "     var train_x = x_[:pos-1]\n",
    "     var train_y = y_[:pos-1]\n",
    "    return test_x, test_y, train_x, train_y\n",
    "}"
   ]
  },
  {
   "cell_type": "code",
   "execution_count": 20,
   "id": "b0735b5d-2163-48a0-b798-5bae0009be11",
   "metadata": {},
   "outputs": [],
   "source": [
    "// resultXY --> sum((x-meanX)*(y-meanY))\n",
    "// resultXX --> sum((x-meanX)^2)\n",
    "func sumXYandXX(arrayX []float64, arrayY []float64, meanX float64, meanY float64) (float64, float64) {\n",
    " resultXX := 0.0\n",
    " resultXY := 0.0\n",
    "for x := 0; x < len(arrayX); x++ {\n",
    "  for y := 0; y < len(arrayY); y++ {\n",
    "   if x == y {\n",
    "    resultXY += (arrayX[x] - meanX) * (arrayY[y] - meanY)\n",
    "   }\n",
    "  }\n",
    "  resultXX += (arrayX[x] - meanX) * (arrayX[x] - meanX)\n",
    " }\n",
    "return resultXY, resultXX\n",
    "}"
   ]
  },
  {
   "cell_type": "markdown",
   "id": "6b2f56cb0fd8788",
   "metadata": {
    "collapsed": false,
    "jupyter": {
     "outputs_hidden": false
    }
   },
   "source": [
    "This function calculates the regression coefficients b0 and b1 using the least squares method. The formula for calculating the slope b1 is given by:"
   ]
  },
  {
   "cell_type": "code",
   "execution_count": 21,
   "id": "827f5e7f-5bd4-4fb5-9c77-0569853bbf5b",
   "metadata": {},
   "outputs": [],
   "source": [
    "// estimateBoB1 --> Function that calculates the regression coefficients b0 and b1\n",
    "// y_predicted = b0 + b1*x_input\n",
    "func estimateB0B1(x []float64, y []float64) (float64, float64) {\n",
    "     var meanX float64\n",
    "     var meanY float64\n",
    "     var sumXY float64\n",
    "     var sumXX float64\n",
    "    meanX = stat.Mean(x, nil) //mean of x\n",
    "     meanY = stat.Mean(y, nil) //mean pf y\n",
    "    sumXY, sumXX = sumXYandXX(x, y, meanX, meanY)\n",
    "    // regression coefficients\n",
    "     b1 := sumXY / sumXX    // b1 or slope\n",
    "     b0 := meanY - b1*meanX // b0 or intercept\n",
    "     return b0, b1\n",
    "}"
   ]
  },
  {
   "cell_type": "markdown",
   "id": "57ddf417f1c4db14",
   "metadata": {
    "collapsed": false,
    "jupyter": {
     "outputs_hidden": false
    }
   },
   "source": [
    "This function calculates the R-squared value, which is a measure of how well the regression model fits the data. The formula for calculating the R-squared value is given by:"
   ]
  },
  {
   "cell_type": "code",
   "execution_count": 22,
   "id": "f432a6606da9421e",
   "metadata": {
    "collapsed": false,
    "jupyter": {
     "outputs_hidden": false
    }
   },
   "outputs": [],
   "source": [
    "func rSquared(yActual []float64, yPredicted []float64) float64 {\n",
    "    yMean := stat.Mean(yActual, nil)\n",
    "    sumSqTotal := 0.0\n",
    "    sumSqResidual := 0.0\n",
    "    for i := range yActual {\n",
    "        sumSqTotal += (yActual[i] - yMean) * (yActual[i] - yMean)\n",
    "        sumSqResidual += (yActual[i] - yPredicted[i]) * (yActual[i] - yPredicted[i])\n",
    "    }\n",
    "    return 1.0 - (sumSqResidual / sumSqTotal)\n",
    "}"
   ]
  },
  {
   "cell_type": "markdown",
   "id": "f60efc536ff7109d",
   "metadata": {
    "collapsed": false,
    "jupyter": {
     "outputs_hidden": false
    }
   },
   "source": [
    "This function tests the model by making predictions on the test data and printing the results."
   ]
  },
  {
   "cell_type": "code",
   "execution_count": 23,
   "id": "63b0c179-bd2f-4d4b-afa2-6fa2cf71bdd3",
   "metadata": {},
   "outputs": [],
   "source": [
    "func testing(x_test []float64, y_test []float64, b0 float64, b1 float64) []float64 {\n",
    " sz := len(x_test)\n",
    " res := make([]float64, sz)\n",
    " for i := 0; i < len(x_test); i++ {\n",
    "  res[i] = b0 + b1*x_test[i]\n",
    " }\n",
    "\n",
    " // Convert []float64 to []interface{}\n",
    " x_test_interface := make([]interface{}, len(x_test))\n",
    " for i, v := range x_test {\n",
    "  x_test_interface[i] = v\n",
    " }\n",
    "\n",
    " res_interface := make([]interface{}, len(res))\n",
    " for i, v := range res {\n",
    "  res_interface[i] = v\n",
    " }\n",
    "\n",
    " y_test_interface := make([]interface{}, len(y_test))\n",
    " for i, v := range y_test {\n",
    "  y_test_interface[i] = v\n",
    " }\n",
    "\n",
    " // Create three Series of type float64\n",
    " X_data := dataframe.NewSeriesFloat64(\"X\", nil, x_test_interface...)\n",
    " Y_predicted := dataframe.NewSeriesFloat64(\"Y_predicted\", nil, res_interface...)\n",
    " Y_actual := dataframe.NewSeriesFloat64(\"Y_actual\", nil, y_test_interface...)\n",
    "\n",
    " // Create a DataFrame with the three Series\n",
    " df := dataframe.NewDataFrame(X_data, Y_predicted, Y_actual)\n",
    "\n",
    " // Print the DataFrame\n",
    " fmt.Print(df.Table())\n",
    "\n",
    " return res\n",
    "}"
   ]
  },
  {
   "cell_type": "markdown",
   "id": "2a58b1388a1cf22d",
   "metadata": {
    "collapsed": false,
    "jupyter": {
     "outputs_hidden": false
    }
   },
   "source": [
    "This function gets the X and y values from the dataframe based on the column index."
   ]
  },
  {
   "cell_type": "code",
   "execution_count": 24,
   "id": "44e7b123-c6fe-4a91-a4b7-b461c2a51c0c",
   "metadata": {},
   "outputs": [],
   "source": [
    "func getXAndYWithColumnIndex(xColIndex int, yColIndex int, df *dataframe.DataFrame) ([]float64, []float64) {\n",
    "    X_data := make([]float64, df.NRows())\n",
    "    y_data := make([]float64, df.NRows())\n",
    "\n",
    "    for i := 0; i < df.NRows(); i++ {\n",
    "        X_val, ok := df.Series[xColIndex].Value(i).(float64)\n",
    "        if !ok {\n",
    "            // Handle the case when the value is not float64\n",
    "            // Convert it to float64 or handle it appropriately\n",
    "            X_val = float64(df.Series[xColIndex].Value(i).(int64))\n",
    "        }\n",
    "        X_data[i] = X_val\n",
    "\n",
    "        y_val, ok := df.Series[yColIndex].Value(i).(float64)\n",
    "        if !ok {\n",
    "            // Handle the case when the value is not float64\n",
    "            // Convert it to float64 or handle it appropriately\n",
    "            y_val = float64(df.Series[yColIndex].Value(i).(int64))\n",
    "        }\n",
    "        y_data[i] = y_val\n",
    "    }\n",
    "\n",
    "    return X_data, y_data\n",
    "}"
   ]
  },
  {
   "cell_type": "markdown",
   "id": "eb857027502ff719",
   "metadata": {
    "collapsed": false,
    "jupyter": {
     "outputs_hidden": false
    }
   },
   "source": [
    "This function displays the plot using the gonum/plot library."
   ]
  },
  {
   "cell_type": "code",
   "execution_count": 25,
   "id": "1181b0522aa8f1eb",
   "metadata": {
    "collapsed": false,
    "jupyter": {
     "outputs_hidden": false
    }
   },
   "outputs": [],
   "source": [
    "func displayPlot(p *plot.Plot) {\n",
    "    // Create a new image canvas\n",
    "    c := vgimg.New(4*vg.Inch, 4*vg.Inch)\n",
    "\n",
    "    // Draw the plot on the canvas\n",
    "    p.Draw(draw.New(c))\n",
    "\n",
    "    // Retrieve the image from the canvas\n",
    "    img := c.Image()\n",
    "\n",
    "    // Display the image\n",
    "    gonbui.DisplayImage(img)\n",
    "}"
   ]
  },
  {
   "cell_type": "markdown",
   "id": "5856ff0d586676ca",
   "metadata": {
    "collapsed": false,
    "jupyter": {
     "outputs_hidden": false
    }
   },
   "source": [
    "This function will create the plot using the gonum/plot library. It will add the actual and predicted values to the scatter plotter and the predicted values to the line plotter. It will then display the plot."
   ]
  },
  {
   "cell_type": "code",
   "execution_count": 26,
   "id": "36220499a565da38",
   "metadata": {
    "collapsed": false,
    "jupyter": {
     "outputs_hidden": false
    }
   },
   "outputs": [],
   "source": [
    "// Function to create and configure the plot\n",
    "func createPlot(test_x []float64, test_y []float64, prediction []float64) (*plot.Plot, error) {\n",
    "    // Create a new plot\n",
    "    p, err := plot.New()\n",
    "    if err != nil {\n",
    "        return nil, err\n",
    "    }\n",
    "\n",
    "    // Create a scatter plotter\n",
    "    s, err := plotter.NewScatter(plotter.XYs{})\n",
    "    if err != nil {\n",
    "        return nil, err\n",
    "    }\n",
    "\n",
    "    // Add the actual and predicted values to the scatter plotter\n",
    "    for i := range test_x {\n",
    "        s.XYs = append(s.XYs, plotter.XY{X: test_x[i], Y: test_y[i]})\n",
    "        s.XYs = append(s.XYs, plotter.XY{X: test_x[i], Y: prediction[i]})\n",
    "    }\n",
    "\n",
    "    // Add the scatter plotter to the plot\n",
    "    p.Add(s)\n",
    "\n",
    "    // Name the x-axis and y-axis\n",
    "    p.X.Label.Text = \"nrFoodSources(X)\"\n",
    "    p.Y.Label.Text = \"predicted nrWaterSources(Y0)\"\n",
    "\n",
    "    // Create a line plotter\n",
    "    l, err := plotter.NewLine(plotter.XYs{})\n",
    "    if err != nil {\n",
    "        return nil, err\n",
    "    }\n",
    "\n",
    "    // Add the predicted values to the line plotter\n",
    "    for i := range test_x {\n",
    "        l.XYs = append(l.XYs, plotter.XY{X: test_x[i], Y: prediction[i]})\n",
    "    }\n",
    "\n",
    "    // Set the line color\n",
    "    l.LineStyle.Color = color.RGBA{R: 255, G: 0, B: 0, A: 255} // Red color\n",
    "\n",
    "    // Add the line plotter to the plot\n",
    "    p.Add(l)\n",
    "\n",
    "    return p, nil\n",
    "}"
   ]
  }
 ],
 "metadata": {
  "kernelspec": {
   "display_name": "Go (gonb)",
   "language": "go",
   "name": "gonb"
  },
  "language_info": {
   "codemirror_mode": "",
   "file_extension": ".go",
   "mimetype": "",
   "name": "go",
   "nbconvert_exporter": "",
   "pygments_lexer": "",
   "version": "go1.22.2"
  }
 },
 "nbformat": 4,
 "nbformat_minor": 5
}
