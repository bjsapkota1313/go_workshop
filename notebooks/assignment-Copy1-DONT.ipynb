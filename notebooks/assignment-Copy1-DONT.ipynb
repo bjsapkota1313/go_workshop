{
 "cells": [
  {
   "cell_type": "markdown",
   "id": "4ac00e071efc2a41",
   "metadata": {},
   "source": [
    "## Importing Packages\n",
    "The first part of the assignment is importing the packages"
   ]
  },
  {
   "cell_type": "code",
   "execution_count": null,
   "id": "90aa3d3c303f0d93",
   "metadata": {},
   "outputs": [],
   "source": [
    "import (\n",
    "\t\"encoding/csv\"\n",
    "    \"gonum.org/v1/gonum/floats\"\n",
    "\t\"fmt\"\n",
    "\t\"log\"\n",
    "\t\"os\"\n",
    "\t\"sort\"\n",
    "\t\"strconv\"\n",
    "    \"context\"\n",
    "\t\"io/ioutil\"\n",
    "\t\"log\"\n",
    "\t\"strings\"\n",
    ")"
   ]
  },
  {
   "cell_type": "markdown",
   "id": "9b2926b3-b4c5-43b4-ac0e-de01ad351ab3",
   "metadata": {},
   "source": [
    "## Main Function\n",
    "Next, we define this main function. You don't need to do anything here.<br>\n",
    "This function calls in the other functions to calculate recommendations based on the \"Ideal Location\", a row in our dataset, and print out a top 5. **But, main won't run!**<br>\n",
    "Because the other functions are not completed. Your job is to write these other functions! Save the Gophers by writing these other functions first and then running them, before running main()."
   ]
  },
  {
   "cell_type": "code",
   "execution_count": null,
   "id": "b4f9d9fb7a464f27",
   "metadata": {},
   "outputs": [],
   "source": [
    "func main() {\n",
    "    // Load the data\n",
    "    records := loadData()\n",
    "    \n",
    "    // Parse the records into locations\n",
    "    locations := parseRecords(records)\n",
    "\n",
    "    // Recommend locations based on a given location\n",
    "    recommendations := recommendBasedOnLocation(locations, \"Ideal Location\")\n",
    "\tif recommendations != nil {\n",
    "\t\tfmt.Println(\"Top recommended locations:\")\n",
    "\t\tfor _, rec := range recommendations[:5] {\n",
    "\t\t\tfmt.Printf(\"%s (Similarity: %.2f)\\n\", rec.Location.Name, rec.Similarity)\n",
    "\t\t}\n",
    "\t}\n",
    "}"
   ]
  },
  {
   "cell_type": "markdown",
   "id": "ddbbb5d6-41e5-4461-93e3-7c8a1e950edf",
   "metadata": {},
   "source": [
    "## Load Data\n",
    "The first step: Loading the data."
   ]
  },
  {
   "cell_type": "code",
   "execution_count": null,
   "id": "144f932605f3f18e",
   "metadata": {},
   "outputs": [],
   "source": [
    "// Open the CSV file and create a new CSV reader reading from the opened file\n",
    "func loadData() [][]string {\n",
    "    // Open the CSV file\n",
    "    f, err := os.Open(\"gopher_locations.csv\")\n",
    "    if err != nil {\n",
    "        log.Fatalf(\"Cannot open 'locations.csv': %s\\n\", err.Error())\n",
    "    }\n",
    "    defer f.Close()\n",
    "\n",
    "    // Create a new CSV reader reading from the opened file\n",
    "    reader := csv.NewReader(f)\n",
    "\n",
    "    // Read all the records from the CSV file\n",
    "    records, err := reader.ReadAll()\n",
    "    if err != nil {\n",
    "        log.Fatalf(\"Cannot read CSV data: %s\\n\", err.Error())\n",
    "    }\n",
    "\n",
    "    return records\n",
    "}"
   ]
  },
  {
   "attachments": {},
   "cell_type": "markdown",
   "id": "bb3fe4fa-4713-4841-9480-042a0395d926",
   "metadata": {},
   "source": [
    "## Define Location struct\n",
    "\n",
    "Next up is defining a struct of the data in each row, a Location struct. We need that, because when we define the data into a struct, we can more easily access all its properties. <br>\n",
    "These are the columns that are in the dataset, and should be represented in the Location struct. <br>\n",
    "After the : is the Datatype that we recommend for each content, in order to be able to make vectors from them for the recommendation. <br>\n",
    "Don't worry, we're going to convert all the data to those datatypes after this.<br>\n",
    "\n",
    "1) Name: Name of the location : string\n",
    "2) AverageTemperature: Average temperature of the location : float64\n",
    "3) NrPredators: Number of predators in the location : float64\n",
    "4) NrFoodSources: Number of food sources in the location : float64\n",
    "5) NrWaterSources: Number of water sources in the location : float64\n",
    "6) NrHumans: Number of humans in the location : float64\n",
    "7) VegetationType: Type of vegetation in the location : float64\n",
    "8) LandSize: Size of the location : float64"
   ]
  },
  {
   "cell_type": "code",
   "execution_count": null,
   "id": "cef841a526b6eefb",
   "metadata": {},
   "outputs": [],
   "source": [
    "// Define a structure to hold location data\n",
    "type Location struct {\n",
    "\tName             string\n",
    "\tAverageTemperature      float64\n",
    "\tNrPredators  float64\n",
    "\tNrFoodSources float64\n",
    "\tNrWaterSources     float64\n",
    "\tNrHumans    float64\n",
    "\tVegetationType       float64\n",
    "\tLandSize         float64\n",
    "}"
   ]
  },
  {
   "cell_type": "markdown",
   "id": "31b762f4-675e-49b6-aef7-eb8b2c00d639",
   "metadata": {},
   "source": [
    "## Parse the Records\n",
    "\n",
    "Next up, parsing the records that we got from the CSV, converting the values that were all loaded as a string into a float64, so we can make vectors from them, and then passing them into a Location struct. <br>\n",
    "We will give you a helper function below. This returns a float from a string-float-map by inputting the key string. Good for categorical values. *wink wink*. The map, however, needs to be created first, in the parseRecords method. "
   ]
  },
  {
   "cell_type": "code",
   "execution_count": null,
   "id": "8f81831507a53609",
   "metadata": {},
   "outputs": [],
   "source": [
    "// Helper function to encode categorical variables for VegetationType column\n",
    "func encodeCategory(value string, categories map[string]float64) float64 {\n",
    "\treturn categories[value]\n",
    "}"
   ]
  },
  {
   "cell_type": "code",
   "execution_count": null,
   "id": "560353f539276693",
   "metadata": {},
   "outputs": [],
   "source": [
    "// Parse the records into locations\n",
    "func parseRecords(records [][]string) []Location {\n",
    "    locations := []Location{}\n",
    "    vegetationCategories := map[string]float64{\"Fields\": 0, \"Meadow\": 1, \"Hills\": 2, \"Forest\": 3, \"Wetland\": 4, \"Savanna\": 5, \"Desert\": 6}\n",
    "\n",
    "    for _, record := range records[1:] { // Skip header\n",
    "        averageTemp, _ := strconv.ParseFloat(record[1], 64)\n",
    "        nrPredators, _ := strconv.ParseFloat(record[2], 64)\n",
    "        nrFoodSources, _ := strconv.ParseFloat(record[3], 64)\n",
    "        nrWaterSources, _ := strconv.ParseFloat(record[4],64)\n",
    "        nrHumans, _ := strconv.ParseFloat(record[5],64)\n",
    "        vegetationType := encodeCategory(record[6], vegetationCategories)\n",
    "        landSize, _ := strconv.ParseFloat(record[7], 64)\n",
    "\n",
    "        location := Location{\n",
    "            Name:             record[0],\n",
    "            AverageTemperature:      averageTemp,\n",
    "            NrPredators:  nrPredators,\n",
    "            NrFoodSources: nrFoodSources,\n",
    "            NrWaterSources:     nrWaterSources,\n",
    "            NrHumans:    nrHumans,\n",
    "            VegetationType:       vegetationType,\n",
    "            LandSize:         landSize,\n",
    "        }\n",
    "        locations = append(locations, location)\n",
    "    }\n",
    "    return locations\n",
    "}"
   ]
  },
  {
   "cell_type": "markdown",
   "id": "0c7fee52-2f69-4fb5-a6c0-c2131cd7bebe",
   "metadata": {},
   "source": [
    "## Calculate Similarity\n",
    "Next, we have this super-complicated function that calculates the cosine similarity between two vectors (or []float64s). <br>\n",
    "Credits to gaspiman, if you read this mate, your package broke, so we stole your code. <br>\n",
    "You don't have to do anything with this, thankfully we didn't either, just run it so you can call it in the next function."
   ]
  },
  {
   "cell_type": "code",
   "execution_count": null,
   "id": "677127c8-824a-482a-8058-e628a315895f",
   "metadata": {},
   "outputs": [],
   "source": [
    "func Cosine(a []float64, b []float64) (cosine float64, err error) {\n",
    "\tcount := 0\n",
    "\tlength_a := len(a)\n",
    "\tlength_b := len(b)\n",
    "\tif length_a > length_b {\n",
    "\t\tcount = length_a\n",
    "\t} else {\n",
    "\t\tcount = length_b\n",
    "\t}\n",
    "\tsumA := 0.0\n",
    "\ts1 := 0.0\n",
    "\ts2 := 0.0\n",
    "\tfor k := 0; k < count; k++ {\n",
    "\t\tif k >= length_a {\n",
    "\t\t\ts2 += math.Pow(b[k], 2)\n",
    "\t\t\tcontinue\n",
    "\t\t}\n",
    "\t\tif k >= length_b {\n",
    "\t\t\ts1 += math.Pow(a[k], 2)\n",
    "\t\t\tcontinue\n",
    "\t\t}\n",
    "\t\tsumA += a[k] * b[k]\n",
    "\t\ts1 += math.Pow(a[k], 2)\n",
    "\t\ts2 += math.Pow(b[k], 2)\n",
    "\t}\n",
    "\tif s1 == 0 || s2 == 0 {\n",
    "\t\treturn 0.0, errors.New(\"Vectors should not be null (all zeros)\")\n",
    "\t}\n",
    "\treturn sumA / (math.Sqrt(s1) * math.Sqrt(s2)), nil\n",
    "}"
   ]
  },
  {
   "cell_type": "markdown",
   "id": "2d251198-1585-46a9-9d6a-7e189509982c",
   "metadata": {},
   "source": [
    "In this next function, we calculate the similarity between two Locations. This is done in 3 steps:\n",
    "- Define the max range per feature (we did that one for you)\n",
    "- Normalize the features of both Locations. If you put these values into an array of float64, that's like a vector of points.\n",
    "- Calculate the similarity between the two vectors using the Cosine function."
   ]
  },
  {
   "cell_type": "code",
   "execution_count": null,
   "id": "9395b65885351f9f",
   "metadata": {},
   "outputs": [],
   "source": [
    "// Function to calculate similarity score\n",
    "func calculateSimilarity(ideal Location, other Location) float64 {\n",
    "\t// Define the ranges of the features\n",
    "\tranges := map[string]float64{\n",
    "\t\t\"AverageTemperature\":  40.0,\n",
    "\t\t\"NrPredators\":       20.0,\n",
    "\t\t\"NrFoodSources\":       20.0,\n",
    "\t\t\"NrWaterSources\":      10.0,\n",
    "\t\t\"NrHumans\":            50.0,\n",
    "\t\t\"VegetationType\":      6.0,\n",
    "\t\t\"LandSize\":            1000.0,\n",
    "\t}\n",
    "\n",
    "\t// Normalize the features\n",
    "\tidealVector := []float64{\n",
    "\t\tideal.AverageTemperature / ranges[\"AverageTemperature\"],\n",
    "\t\tideal.NrPredators / ranges[\"NrPredators\"],\n",
    "\t\tideal.NrFoodSources / ranges[\"NrFoodSources\"],\n",
    "\t\tideal.NrWaterSources / ranges[\"NrWaterSources\"],\n",
    "\t\tideal.NrHumans / ranges[\"NrHumans\"],\n",
    "\t\tideal.VegetationType / ranges[\"VegetationType\"],\n",
    "\t\tideal.LandSize / ranges[\"LandSize\"],\n",
    "\t}\n",
    "\totherVector := []float64{\n",
    "\t\tother.AverageTemperature / ranges[\"AverageTemperature\"],\n",
    "\t\tother.NrPredators / ranges[\"NrPredators\"],\n",
    "\t\tother.NrFoodSources / ranges[\"NrFoodSources\"],\n",
    "\t\tother.NrWaterSources / ranges[\"NrWaterSources\"],\n",
    "\t\tother.NrHumans / ranges[\"NrHumans\"],\n",
    "\t\tother.VegetationType / ranges[\"VegetationType\"],\n",
    "\t\tother.LandSize / ranges[\"LandSize\"],\n",
    "\t}\n",
    "\n",
    "\t//After normalizing, calculate the similarity using the Cosine function\n",
    "    similarity, _ := Cosine(idealVector, otherVector)\n",
    "    return similarity\n",
    "}"
   ]
  },
  {
   "cell_type": "markdown",
   "id": "eefd6cdf-1e2c-432e-896e-c5586ec2a6fd",
   "metadata": {},
   "source": [
    "## Recommend Locations\n",
    "\n",
    "Lastly, create a function that calculates a recommendation rating for all locations, based on one given location name. <br>\n",
    "This function returns a sorted array of structs that contain the Location struct and similarity float64."
   ]
  },
  {
   "cell_type": "code",
   "execution_count": null,
   "id": "7a27d39be849fe27",
   "metadata": {},
   "outputs": [],
   "source": [
    "// Function to recommend locations based on a given location\n",
    "func recommendBasedOnLocation(locations []Location, givenLocation string) []struct {\n",
    "\tLocation   Location\n",
    "\tSimilarity float64\n",
    "} {\n",
    "\t// Find the given location\n",
    "\tvar ideal Location\n",
    "\tfor _, location := range locations {\n",
    "\t\tif location.Name == givenLocation {\n",
    "\t\t\tideal = location\n",
    "\t\t\tbreak\n",
    "\t\t}\n",
    "\t}\n",
    "\tif ideal.Name == \"\" {\n",
    "\t\tfmt.Printf(\"Location '%s' not found.\\n\", givenLocation)\n",
    "\t\treturn nil\n",
    "\t}\n",
    "\n",
    "\trecommendations := []struct {\n",
    "\t\tLocation   Location\n",
    "\t\tSimilarity float64\n",
    "\t}{}\n",
    "\n",
    "\tfor _, location := range locations {\n",
    "\t\tif location.Name != ideal.Name {\n",
    "\t\t\tsimilarity := calculateSimilarity(ideal, location)\n",
    "\t\t\trecommendations = append(recommendations, struct {\n",
    "\t\t\t\tLocation   Location\n",
    "\t\t\t\tSimilarity float64\n",
    "\t\t\t}{location, similarity})\n",
    "\t\t}\n",
    "\t}\n",
    "\n",
    "\t// Sort recommendations by similarity\n",
    "\tsort.Slice(recommendations, func(i, j int) bool {\n",
    "\t\treturn recommendations[i].Similarity > recommendations[j].Similarity\n",
    "\t})\n",
    "\n",
    "\treturn recommendations\n",
    "}"
   ]
  },
  {
   "cell_type": "code",
   "execution_count": null,
   "id": "6d768b64-d08b-49ba-92b4-3a8a8eb237d1",
   "metadata": {},
   "outputs": [],
   "source": []
  }
 ],
 "metadata": {
  "kernelspec": {
   "display_name": "Go (gonb)",
   "language": "go",
   "name": "gonb"
  },
  "language_info": {
   "codemirror_mode": "",
   "file_extension": ".go",
   "mimetype": "",
   "name": "go",
   "nbconvert_exporter": "",
   "pygments_lexer": "",
   "version": "go1.22.2"
  }
 },
 "nbformat": 4,
 "nbformat_minor": 5
}
