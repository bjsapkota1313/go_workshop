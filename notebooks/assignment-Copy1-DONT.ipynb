{
 "cells": [
  {
   "cell_type": "markdown",
   "id": "4ac00e071efc2a41",
   "metadata": {},
   "source": [
    "The first part of the assignment is importing the packages"
   ]
  },
  {
   "cell_type": "code",
   "execution_count": 1,
   "id": "90aa3d3c303f0d93",
   "metadata": {},
   "outputs": [],
   "source": [
    "import (\n",
    "\t\"encoding/csv\"\n",
    "    \"gonum.org/v1/gonum/floats\"\n",
    "\t\"fmt\"\n",
    "\t\"log\"\n",
    "\t\"os\"\n",
    "\t\"sort\"\n",
    "\t\"strconv\"\n",
    "    \"context\"\n",
    "\t\"io/ioutil\"\n",
    "\t\"log\"\n",
    "\t\"strings\"\n",
    "\t\"github.com/rocketlaunchr/dataframe-go\"\n",
    "\t\"github.com/rocketlaunchr/dataframe-go/imports\"\n",
    ")"
   ]
  },
  {
   "cell_type": "markdown",
   "id": "ee6cb84f5ebb4f13",
   "metadata": {},
   "source": [
    "The second part of the assignment is defining the main function in which we call the LoadData, parseRecords, and recommendBasedOnLocation functions. But of course, we need to run other functions."
   ]
  },
  {
   "cell_type": "code",
   "execution_count": 15,
   "id": "b4f9d9fb7a464f27",
   "metadata": {},
   "outputs": [
    {
     "name": "stdout",
     "output_type": "stream",
     "text": [
      "Top recommended locations:\n",
      "Stikker Creek (Similarity: 0.95)\n",
      "Flowering Fields (Similarity: 0.86)\n",
      "Peaceful Meadows (Similarity: 0.85)\n",
      "Quiet Glades (Similarity: 0.61)\n",
      "Serene Meadow (Similarity: 0.55)\n"
     ]
    }
   ],
   "source": [
    "func main() {\n",
    "    // Load the data\n",
    "    records := loadData()\n",
    "    \n",
    "    // Parse the records into locations\n",
    "    locations := parseRecords(records)\n",
    "\n",
    "    // Recommend locations based on a given location\n",
    "    recommendations := recommendBasedOnLocation(locations, \"Ideal Location\")\n",
    "\tif recommendations != nil {\n",
    "\t\tfmt.Println(\"Top recommended locations:\")\n",
    "\t\tfor _, rec := range recommendations[:5] {\n",
    "\t\t\tfmt.Printf(\"%s (Similarity: %.2f)\\n\", rec.Location.Name, rec.Similarity)\n",
    "\t\t}\n",
    "\t}\n",
    "}"
   ]
  },
  {
   "cell_type": "markdown",
   "id": "c4fc894c4a0d968d",
   "metadata": {},
   "source": [
    "The third part of the assignment is defining the load function, we need that to read and return the records."
   ]
  },
  {
   "cell_type": "code",
   "execution_count": 9,
   "id": "144f932605f3f18e",
   "metadata": {},
   "outputs": [],
   "source": [
    "// Open the CSV file and create a new CSV reader reading from the opened file\n",
    "func loadData() [][]string {\n",
    "    // Open the CSV file\n",
    "    f, err := os.Open(\"gopher_locations.csv\")\n",
    "    if err != nil {\n",
    "        log.Fatalf(\"Cannot open 'locations.csv': %s\\n\", err.Error())\n",
    "    }\n",
    "    defer f.Close()\n",
    "\n",
    "    // Create a new CSV reader reading from the opened file\n",
    "    reader := csv.NewReader(f)\n",
    "\n",
    "    // Read all the records from the CSV file\n",
    "    records, err := reader.ReadAll()\n",
    "    if err != nil {\n",
    "        log.Fatalf(\"Cannot read CSV data: %s\\n\", err.Error())\n",
    "    }\n",
    "\n",
    "    return records\n",
    "}"
   ]
  },
  {
   "cell_type": "markdown",
   "id": "b230d42bfe949bf0",
   "metadata": {},
   "source": [
    "The next part of the assignment is defining the structure of the data, we need that because we are going to use the data in the CSV file and by defining the structure we can easily access the data\n",
    "1) Name: Name of the location\n",
    "2) AverageTemperature: Average temperature of the location\n",
    "3) NrPredators: Number of predators in the location\n",
    "4) NrFoodSources: Number of food sources in the location\n",
    "5) NrWaterSources: Number of water sources in the location\n",
    "6) NrHumans: Number of humans in the location\n",
    "7) VegetationType: Type of vegetation in the location"
   ]
  },
  {
   "cell_type": "code",
   "execution_count": 10,
   "id": "cef841a526b6eefb",
   "metadata": {},
   "outputs": [],
   "source": [
    "// Define a structure to hold location data\n",
    "type Location struct {\n",
    "\tName             string\n",
    "\tAverageTemperature      float64\n",
    "\tNrPredators  float64\n",
    "\tNrFoodSources float64\n",
    "\tNrWaterSources     float64\n",
    "\tNrHumans    float64\n",
    "\tVegetationType       float64\n",
    "\tLandSize         float64\n",
    "}"
   ]
  },
  {
   "cell_type": "markdown",
   "id": "5e599fcc184ec702",
   "metadata": {},
   "source": [
    "The fifth part of the assignment is defining the function to encode the categorical variables, we need that to encode the VegetationType column in the CSV file because the VegetationType column contains categorical variables."
   ]
  },
  {
   "cell_type": "code",
   "execution_count": 11,
   "id": "8f81831507a53609",
   "metadata": {},
   "outputs": [],
   "source": [
    "// Helper function to encode categorical variables for VegetationType column\n",
    "func encodeCategory(value string, categories map[string]float64) float64 {\n",
    "\treturn categories[value]\n",
    "}"
   ]
  },
  {
   "cell_type": "markdown",
   "id": "97c39334bde7b978",
   "metadata": {},
   "source": [
    "The sixth part of the assignment is defining the function to parse the records, we need that to parse the records in the CSV file into locations.\n",
    "\n",
    "1) The function takes one parameter, the records\n",
    "2) The function returns a list of locations\n",
    "3) The function loops through the records and parses the records into locations\n",
    "4) The function uses the encodeCategory function to encode the VegetationType column since it is the only categorical variable in the CSV file"
   ]
  },
  {
   "cell_type": "code",
   "execution_count": 12,
   "id": "560353f539276693",
   "metadata": {},
   "outputs": [],
   "source": [
    "// Parse the records into locations\n",
    "func parseRecords(records [][]string) []Location {\n",
    "    locations := []Location{}\n",
    "    vegetationCategories := map[string]float64{\"Fields\": 0, \"Meadow\": 1, \"Hills\": 2, \"Forest\": 3, \"Wetland\": 4, \"Savanna\": 5, \"Desert\": 6}\n",
    "\n",
    "    for _, record := range records[1:] { // Skip header\n",
    "        averageTemp, _ := strconv.ParseFloat(record[1], 64)\n",
    "        nrPredators, _ := strconv.ParseFloat(record[2], 64)\n",
    "        nrFoodSources, _ := strconv.ParseFloat(record[3], 64)\n",
    "        nrWaterSources, _ := strconv.ParseFloat(record[4],64)\n",
    "        nrHumans, _ := strconv.ParseFloat(record[5],64)\n",
    "        vegetationType := encodeCategory(record[6], vegetationCategories)\n",
    "        landSize, _ := strconv.ParseFloat(record[7], 64)\n",
    "\n",
    "        location := Location{\n",
    "            Name:             record[0],\n",
    "            AverageTemperature:      averageTemp,\n",
    "            NrPredators:  NrPredators,\n",
    "            NrFoodSources: nrFoodSources,\n",
    "            NrWaterSources:     nrWaterSources,\n",
    "            NrHumans:    nrHumans,\n",
    "            VegetationType:       vegetationType,\n",
    "            LandSize:         landSize,\n",
    "        }\n",
    "        locations = append(locations, location)\n",
    "    }\n",
    "    return locations\n",
    "}"
   ]
  },
  {
   "cell_type": "markdown",
   "id": "357bffff9d82b94c",
   "metadata": {},
   "source": [
    "In the next part of the assignment we define the function to calculate the similarity score, we need that to calculate the similarity between the ideal location and the other locations.\n",
    "1) The function takes two parameters, the ideal location and the other location\n",
    "2) The function returns the similarity score\n",
    "3) The function calculates the similarity score by normalizing the features and then calculating the Euclidean distance between the ideal location and the other location\n",
    "4) The function uses the floats.Distance function from the gonum.org/v1/gonum/floats package to calculate the Euclidean distance\n",
    "\n",
    "We also define the ranges of the features to normalize the features before calculating the similarity score"
   ]
  },
  {
   "cell_type": "code",
   "execution_count": 13,
   "id": "9395b65885351f9f",
   "metadata": {},
   "outputs": [],
   "source": [
    "// Function to calculate similarity score\n",
    "func calculateSimilarity(ideal Location, other Location) float64 {\n",
    "\t// Define the ranges of the features\n",
    "\tranges := map[string]float64{\n",
    "\t\t\"AverageTemperature\":  40.0,\n",
    "\t\t\"NrPredators\":       20.0,\n",
    "\t\t\"NrFoodSources\":       20.0,\n",
    "\t\t\"NrWaterSources\":      10.0,\n",
    "\t\t\"NrHumans\":            50.0,\n",
    "\t\t\"VegetationType\":      6.0,\n",
    "\t\t\"LandSize\":            1000.0,\n",
    "\t}\n",
    "\n",
    "\t// Normalize the features\n",
    "\tidealVector := []float64{\n",
    "\t\tideal.AverageTemperature / ranges[\"AverageTemperature\"],\n",
    "\t\tideal.NrPredators / ranges[\"NrPredators\"],\n",
    "\t\tideal.NrFoodSources / ranges[\"NrFoodSources\"],\n",
    "\t\tideal.NrWaterSources / ranges[\"NrWaterSources\"],\n",
    "\t\tideal.NrHumans / ranges[\"NrHumans\"],\n",
    "\t\tideal.VegetationType / ranges[\"VegetationType\"],\n",
    "\t\tideal.LandSize / ranges[\"LandSize\"],\n",
    "\t}\n",
    "\totherVector := []float64{\n",
    "\t\tother.AverageTemperature / ranges[\"AverageTemperature\"],\n",
    "\t\tother.NrPredators / ranges[\"NrPredators\"],\n",
    "\t\tother.NrFoodSources / ranges[\"NrFoodSources\"],\n",
    "\t\tother.NrWaterSources / ranges[\"NrWaterSources\"],\n",
    "\t\tother.NrHumans / ranges[\"NrHumans\"],\n",
    "\t\tother.VegetationType / ranges[\"VegetationType\"],\n",
    "\t\tother.LandSize / ranges[\"LandSize\"],\n",
    "\t}\n",
    "\n",
    "\treturn 1 - floats.Distance(idealVector, otherVector, 2) // Using Euclidean distance\n",
    "}"
   ]
  },
  {
   "cell_type": "markdown",
   "id": "5d79fe07c7db9f08",
   "metadata": {},
   "source": [
    "The last part of the assignment is defining the function to recommend locations based on a given location, we need that to recommend locations based on a given location.\n",
    "\n",
    "1) The function takes two parameters, the list of locations and the given location\n",
    "2) Inside the function, we declare the ideal location and set it to the given location\n",
    "3) We loop through the list of locations and calculate the similarity score between the ideal location and each location\n",
    "4) We sort the recommendations by similarity score\n",
    "5) We return the recommendations\n",
    "6) We print the top 5 recommendations"
   ]
  },
  {
   "cell_type": "code",
   "execution_count": 14,
   "id": "7a27d39be849fe27",
   "metadata": {},
   "outputs": [],
   "source": [
    "// Function to recommend locations based on a given location\n",
    "func recommendBasedOnLocation(locations []Location, givenLocation string) []struct {\n",
    "\tLocation   Location\n",
    "\tSimilarity float64\n",
    "} {\n",
    "\t// Find the given location\n",
    "\tvar ideal Location\n",
    "\tfor _, location := range locations {\n",
    "\t\tif location.Name == givenLocation {\n",
    "\t\t\tideal = location\n",
    "\t\t\tbreak\n",
    "\t\t}\n",
    "\t}\n",
    "\tif ideal.Name == \"\" {\n",
    "\t\tfmt.Printf(\"Location '%s' not found.\\n\", givenLocation)\n",
    "\t\treturn nil\n",
    "\t}\n",
    "\n",
    "\trecommendations := []struct {\n",
    "\t\tLocation   Location\n",
    "\t\tSimilarity float64\n",
    "\t}{}\n",
    "\n",
    "\tfor _, location := range locations {\n",
    "\t\tif location.Name != ideal.Name {\n",
    "\t\t\tsimilarity := calculateSimilarity(ideal, location)\n",
    "\t\t\trecommendations = append(recommendations, struct {\n",
    "\t\t\t\tLocation   Location\n",
    "\t\t\t\tSimilarity float64\n",
    "\t\t\t}{location, similarity})\n",
    "\t\t}\n",
    "\t}\n",
    "\n",
    "\t// Sort recommendations by similarity\n",
    "\tsort.Slice(recommendations, func(i, j int) bool {\n",
    "\t\treturn recommendations[i].Similarity > recommendations[j].Similarity\n",
    "\t})\n",
    "\n",
    "\treturn recommendations\n",
    "}"
   ]
  }
 ],
 "metadata": {
  "kernelspec": {
   "display_name": "Go (gonb)",
   "language": "go",
   "name": "gonb"
  },
  "language_info": {
   "codemirror_mode": "",
   "file_extension": ".go",
   "mimetype": "",
   "name": "go",
   "nbconvert_exporter": "",
   "pygments_lexer": "",
   "version": "go1.22.2"
  }
 },
 "nbformat": 4,
 "nbformat_minor": 5
}
