{
 "cells": [
  {
   "cell_type": "markdown",
   "id": "4ac00e071efc2a41",
   "metadata": {},
   "source": [
    "## Import Packages\n",
    "Firstly we import the necessary packages."
   ]
  },
  {
   "cell_type": "code",
   "execution_count": null,
   "id": "db4919f2-5d95-41c3-b961-58491d40fd98",
   "metadata": {},
   "outputs": [],
   "source": [
    "import (\n",
    "\t\"encoding/csv\"\n",
    "    \"gonum.org/v1/gonum/floats\"\n",
    "\t\"fmt\"\n",
    "\t\"log\"\n",
    "\t\"os\"\n",
    "\t\"sort\"\n",
    "\t\"strconv\"\n",
    "    \"context\"\n",
    "\t\"io/ioutil\"\n",
    "\t\"log\"\n",
    "\t\"strings\"\n",
    ")"
   ]
  },
  {
   "cell_type": "markdown",
   "id": "12d8903a-a868-4d5f-bccd-989ed00c85c8",
   "metadata": {},
   "source": [
    "## Main Function\n",
    "Next, we define this main function. You don't need to do anything here.<br>\n",
    "This function calls in the other functions to calculate recommendations based on the \"Ideal Location\", a row in our dataset, and print out a top 5. **But, main won't run!**<br>\n",
    "Because the other functions are not completed. Your job is to write these other functions! Save the Gophers by writing these other functions first and then running them, before running main()."
   ]
  },
  {
   "cell_type": "code",
   "execution_count": null,
   "id": "5291024d-cf56-4e2b-8958-43fa26a4cc8b",
   "metadata": {},
   "outputs": [],
   "source": [
    "func main() {\n",
    "    // Load the data\n",
    "    dataRecords := LoadData()\n",
    "    \n",
    "    // Parse the records into locations\n",
    "    locations := parseRecords(dataRecords)\n",
    "\n",
    "    // Recommend locations based on the Ideal Location\n",
    "    recommendations := recommendBasedOnLocation(locations, \"Ideal Location\")\n",
    "\tif recommendations != nil {\n",
    "\t\tfmt.Println(\"Top recommended locations:\")\n",
    "\t\t\n",
    "        for _, rec := range recommendations[:5] {\n",
    "\t\t\tfmt.Printf(\"%s (Similarity: %.2f)\\n\", rec.location.Name, rec.similarity)\n",
    "\t\t}\n",
    "\t}\n",
    "}"
   ]
  },
  {
   "cell_type": "markdown",
   "id": "386410fb-fde2-45aa-8257-c54cb0838c81",
   "metadata": {},
   "source": [
    "## Load Data\n",
    "The first step: Loading the data."
   ]
  },
  {
   "cell_type": "code",
   "execution_count": null,
   "id": "814c03f06100cb18",
   "metadata": {},
   "outputs": [],
   "source": [
    "//Use this function to load the data from the CSV. The return type, which is noted after the function name, is a slice of a string array (aka dataframe).\n",
    "func LoadData() [][]string {\n",
    "    // Open the CSV file\n",
    "    \n",
    "    // Create a new CSV reader reading from the opened file\n",
    "    \n",
    "    // Read all the records from the CSV file\n",
    "    \n",
    "    return records\n",
    "}"
   ]
  },
  {
   "attachments": {},
   "cell_type": "markdown",
   "id": "fc165725d72b2fdf",
   "metadata": {},
   "source": [
    "## Define Location struct\n",
    "\n",
    "Next up is defining a struct of the data in each row, a Location struct. We need that, because when we define the data into a struct, we can more easily access all its properties. <br>\n",
    "These are the columns that are in the dataset, and should be represented in the Location struct. <br>\n",
    "After the : is the Datatype that we recommend for each content, in order to be able to make vectors from them for the recommendation. <br>\n",
    "Don't worry, we're going to convert all the data to those datatypes after this.<br>\n",
    "\n",
    "1) Name: Name of the location : string\n",
    "2) AverageTemperature: Average temperature of the location : float64\n",
    "3) NrPredators: Number of predators in the location : float64\n",
    "4) NrFoodSources: Number of food sources in the location : float64\n",
    "5) NrWaterSources: Number of water sources in the location : float64\n",
    "6) NrHumans: Number of humans in the location : float64\n",
    "7) VegetationType: Type of vegetation in the location : float64\n",
    "8) LandSize: Size of the location : float64"
   ]
  },
  {
   "cell_type": "code",
   "execution_count": null,
   "id": "223e9ae67535f01e",
   "metadata": {},
   "outputs": [],
   "source": [
    "// Define the Location struct\n"
   ]
  },
  {
   "cell_type": "markdown",
   "id": "f0075187-5a19-40c8-9b5c-6b652d6ab2a3",
   "metadata": {},
   "source": [
    "## Parse the Records\n",
    "\n",
    "Next up, parsing the records that we got from the CSV, converting the values that were all loaded as a string into a float64, so we can make vectors from them, and then passing them into a Location struct. <br>\n",
    "We will give you a helper function below. This returns a float from a string-float-map by inputting the key string. Good for categorical values. *wink wink*. The map, however, needs to be created first, in the parseRecords method. "
   ]
  },
  {
   "cell_type": "code",
   "execution_count": null,
   "id": "2966a175-90f3-4fa4-8116-2518c1196c82",
   "metadata": {},
   "outputs": [],
   "source": [
    "// Helper function to encode categorical variables for VegetationType column\n",
    "func encodeCategory(value string, categories map[string]float64) float64 {\n",
    "\treturn categories[value]\n",
    "}"
   ]
  },
  {
   "cell_type": "code",
   "execution_count": null,
   "id": "4bb6c9567e1c4117",
   "metadata": {},
   "outputs": [],
   "source": [
    "// Parse the records into an array of Locations\n",
    "func parseRecords(records [][]string) []Location {\n",
    "    \n",
    "    //Create the vegetationCategories string-float-map\n",
    "    //The categories are: Fields, Meadow, Hills, Forest, Wetland, Savannah, Desert\n",
    "    //By creating a string-float-map, we can get a numerical value based on the category string as a key, using the encodeCategory function above.\n",
    "    vegetationCategories := //...\n",
    "\n",
    "    //Initialise locations array\n",
    "    locations := []Location{}\n",
    "    \n",
    "    //For each record/row in the dataset...\n",
    "    for _, record := range records[1:] {\n",
    "        \n",
    "        //... convert the string value in each column to float64 (All except name!)\n",
    "        // Think about encoding those VegetationCategories!\n",
    "        \n",
    "        // and with those new values, initialise a Location struct\n",
    "        location = //...\n",
    "    }\n",
    "        locations = append(locations, location)\n",
    "    }\n",
    "    return locations\n",
    "}"
   ]
  },
  {
   "cell_type": "markdown",
   "id": "1001d199-72f7-4237-83a4-86715685c43c",
   "metadata": {},
   "source": [
    "## Calculate Similarity\n",
    "Next, we have this super-complicated function that calculates the cosine similarity between two vectors (or []float64s). <br>\n",
    "Credits to gaspiman, if you read this mate, your package broke, so we stole your code. <br>\n",
    "You don't have to do anything with this, thankfully we didn't either, just run it so you can call it in the next function."
   ]
  },
  {
   "cell_type": "code",
   "execution_count": null,
   "id": "8ad3d4c5-ba18-4c22-baa2-ccd3c6dbb0ef",
   "metadata": {},
   "outputs": [],
   "source": [
    "func Cosine(a []float64, b []float64) (cosine float64, err error) {\n",
    "\tcount := 0\n",
    "\tlength_a := len(a)\n",
    "\tlength_b := len(b)\n",
    "\tif length_a > length_b {\n",
    "\t\tcount = length_a\n",
    "\t} else {\n",
    "\t\tcount = length_b\n",
    "\t}\n",
    "\tsumA := 0.0\n",
    "\ts1 := 0.0\n",
    "\ts2 := 0.0\n",
    "\tfor k := 0; k < count; k++ {\n",
    "\t\tif k >= length_a {\n",
    "\t\t\ts2 += math.Pow(b[k], 2)\n",
    "\t\t\tcontinue\n",
    "\t\t}\n",
    "\t\tif k >= length_b {\n",
    "\t\t\ts1 += math.Pow(a[k], 2)\n",
    "\t\t\tcontinue\n",
    "\t\t}\n",
    "\t\tsumA += a[k] * b[k]\n",
    "\t\ts1 += math.Pow(a[k], 2)\n",
    "\t\ts2 += math.Pow(b[k], 2)\n",
    "\t}\n",
    "\tif s1 == 0 || s2 == 0 {\n",
    "\t\treturn 0.0, errors.New(\"Vectors should not be null (all zeros)\")\n",
    "\t}\n",
    "\treturn sumA / (math.Sqrt(s1) * math.Sqrt(s2)), nil\n",
    "}"
   ]
  },
  {
   "cell_type": "markdown",
   "id": "4e7b76ec312b0e33",
   "metadata": {},
   "source": [
    "In this next function, we calculate the similarity between two Locations. This is done in 3 steps:\n",
    "- Define the max range per feature (we did that one for you)\n",
    "- Normalize the features of both Locations. If you put these values into an array of float64, that's like a vector of points.\n",
    "- Calculate the similarity between the two vectors using the Cosine function."
   ]
  },
  {
   "cell_type": "code",
   "execution_count": null,
   "id": "449b1921-b70d-4c6a-9a2a-59f377134857",
   "metadata": {},
   "outputs": [],
   "source": [
    "// Function to calculate similarity score\n",
    "func calculateSimilarity(givenLocation Location, otherLocation Location) float64 {\n",
    "    //In order to calculate the similarities, we want to normalize our data\n",
    "    //Start by defining the max ranges. We did that for you so you don't have to figure out what they are.\n",
    "\tranges := map[string]float64{\n",
    "\t\t\"AverageTemperature\":  40.0,\n",
    "\t\t\"NrPredators\":         20.0,\n",
    "\t\t\"NrFoodSources\":       20.0,\n",
    "\t\t\"NrWaterSources\":      10.0,\n",
    "\t\t\"NrHumans\":            50.0,\n",
    "\t\t\"VegetationType\":      6.0,\n",
    "\t\t\"LandSize\":            1000.0,\n",
    "\t}\n",
    "\n",
    "\t// Normalize the features of both Locations by dividing the values by their range\n",
    "    //Example:\n",
    "\tgivenLocationVector := []float64{\n",
    "\t\tgivenLocation.AverageTemperature / ranges[\"AverageTemperature\"],\n",
    "\t\t// ...\n",
    "\n",
    "        otherLocationVector := []float64{\n",
    "        otherLocation.AverageTemperature / ranges[\"AverageTemperature\"],\n",
    "        // ...\n",
    "    \n",
    "    //After normalizing, calculate the cosine similarity\n",
    "\treturn Cosine(//...)\n",
    "    }"
   ]
  },
  {
   "cell_type": "markdown",
   "id": "3353fc4cee83fea0",
   "metadata": {},
   "source": [
    "## Recommend Locations\n",
    "\n",
    "Next, create a function that calculates a recommendation rating for all locations, based on one given location name. <br>\n",
    "This function returns a sorted array of structs that contain the Location struct and similarity float64."
   ]
  },
  {
   "cell_type": "code",
   "execution_count": null,
   "id": "c7d05ec2-b847-4616-8bb1-bfec1a11da66",
   "metadata": {},
   "outputs": [],
   "source": [
    "func recommendBasedOnLocation(locations []Location, givenLocationName string) []struct {\n",
    "\tLocation   Location\n",
    "\tSimilarity float64\n",
    "} {\n",
    "\n",
    "    //Find the given location in the locations array. The recommendations are based on this location.\n",
    "    var givenLocation Location\n",
    "\tfor _, location := range locations {\n",
    "\t\tif location.Name == givenLocationName {\n",
    "\t\t\tgivenLocation = location\n",
    "\t\t\tbreak\n",
    "\t\t}\n",
    "\t}\n",
    "\n",
    "    //Initialize a struct array called \"recommendations\" that maps \n",
    "    //location (datatype Location) to similarity (datatype float64)\n",
    "    //If you're stuck, you could check the cheatsheet, but also look at what this method returns...\n",
    "    \n",
    "    //For each location, calculate the similarity of the given location and the iterated location, then add to recommendations\n",
    "\tfor _, location := range locations {\n",
    "\t\tif location.Name != givenLocation.Name {\n",
    "\t\t\tsimilarity := calculateSimilarity(givenLocation, location)\n",
    "\t\t\trecommendations = append(recommendations, struct {\n",
    "\t\t\t\tLocation   Location\n",
    "\t\t\t\tSimilarity float64\n",
    "\t\t\t}{location, similarity})\n",
    "\t\t}\n",
    "\t}\n",
    "\n",
    "\t// Sort the recommendations by similarity\n",
    "\tsort.Slice(recommendations, func(i, j int) bool {\n",
    "\t\treturn recommendations[i].Similarity > recommendations[j].Similarity\n",
    "\t})\n",
    "\n",
    "\treturn recommendations\n",
    "}"
   ]
  },
  {
   "cell_type": "markdown",
   "id": "699e2696-4d0c-4f3d-b55d-d6c2b5f73130",
   "metadata": {},
   "source": [
    "## The end\n",
    "That should be it... go back up to main and try to run it after running all these other cells. Let us know that you're done and show us the result.\n",
    "\n",
    "**Got spare time?** Make negative recommendations for extra bonus points! This might need some restructuring of the code.\n"
   ]
  }
 ],
 "metadata": {
  "kernelspec": {
   "display_name": "Go (gonb)",
   "language": "go",
   "name": "gonb"
  },
  "language_info": {
   "codemirror_mode": "",
   "file_extension": ".go",
   "mimetype": "",
   "name": "go",
   "nbconvert_exporter": "",
   "pygments_lexer": "",
   "version": "go1.22.2"
  }
 },
 "nbformat": 4,
 "nbformat_minor": 5
}
