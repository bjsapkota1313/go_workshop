{
 "cells": [
  {
   "cell_type": "code",
   "execution_count": 2,
   "id": "539603c8-515a-4c29-9464-c8ba424de630",
   "metadata": {},
   "outputs": [
    {
     "data": {
      "text/html": [
       "\n",
       "<style>\n",
       ".gonb-err-location {\n",
       "\tbackground: var(--jp-err-color2);  \n",
       "\tborder-radius: 3px;\n",
       "\tborder-style: dotted;\n",
       "\tborder-width: 1px;\n",
       "\tborder-color: var(--jp-border-color2);\n",
       "}\n",
       ".gonb-err-location:hover {\n",
       "\tborder-width: 2px;\n",
       "\tborder-style: solid;\n",
       "\tborder-color: var(--jp-border-color2);\n",
       "}\n",
       ".gonb-err-context {\n",
       "\tdisplay: none;\n",
       "}\n",
       ".gonb-err-location:hover + .gonb-err-context {\n",
       "\tbackground: var(--jp-dialog-background);  \n",
       "\tborder-radius: 3px;\n",
       "\tborder-style: solid;\n",
       "\tborder-width: 1px;\n",
       "\tborder-color: var(--jp-border-color2);\n",
       "\tdisplay: block;\n",
       "\twhite-space: pre;\n",
       "\tfont-family: monospace;\n",
       "}\n",
       ".gonb-err-line {\n",
       "\tborder-radius: 3px;\n",
       "\tborder-style: dotted;\n",
       "\tborder-width: 1px;\t\n",
       "\tborder-color: var(--jp-border-color2);\n",
       "\tbackground-color: var(--jp-rendermime-err-background);\n",
       "\tfont-weight: bold;\n",
       "}\n",
       ".gonb-cell-line-info {\n",
       "\tbackground: var(--jp-layout-color2);\n",
       "\tcolor: #999;\n",
       "\tmargin: 0.1em;\n",
       "\tborder: 1px solid var(--jp-border-color1);\n",
       "\tpadding-left: 0.2em;\n",
       "\tpadding-right: 0.2em;\n",
       "}\n",
       "</style>\n",
       "<div class=\"lm-Widget p-Widget lm-Panel p-Panel jp-OutputArea-child\">\n",
       "<div class=\"lm-Widget p-Widget jp-RenderedText jp-mod-trusted jp-OutputArea-output\" data-mime-type=\"application/vnd.jupyter.stderr\" style=\"font-family: monospace;\">\n",
       "\n",
       "\n",
       "<span style=\"white-space: pre;\"> # github.com/sjwhitworth/golearn/knn</span>\n",
       "\n",
       "<br/>\n",
       "\n",
       "\n",
       "<span style=\"white-space: pre;\"> /opt/go/pkg/mod/github.com/sjwhitworth/golearn@v0.0.0-20221228163002-74ae077eafb2/knn/knn.go:132:16: KNN.optimisedEuclideanPredict undefined (type *KNNClassifier has no field or method optimisedEuclideanPredict)</span>\n",
       "\n",
       "<br/>\n",
       "\n",
       "\n",
       "<span style=\"white-space: pre;\"> </span>\n",
       "\n",
       "<br/>\n",
       "\n",
       "</div>\n"
      ]
     },
     "metadata": {},
     "output_type": "display_data"
    },
    {
     "ename": "ERROR",
     "evalue": "failed to run \"/usr/local/go/bin/go build -o /tmp/gonb_a8c3b536/gonb_a8c3b536\": exit status 1",
     "output_type": "error",
     "traceback": [
      "failed to run \"/usr/local/go/bin/go build -o /tmp/gonb_a8c3b536/gonb_a8c3b536\": exit status 1"
     ]
    }
   ],
   "source": [
    "import (\n",
    "\t\"fmt\"\n",
    "\t\"github.com/sjwhitworth/golearn/base\"\n",
    "\t\"github.com/sjwhitworth/golearn/evaluation\"\n",
    "\t\"github.com/sjwhitworth/golearn/knn\"\n",
    ")\n",
    "\n",
    "func main() {\n",
    "\trawData, err := base.ParseCSVToInstances(\"iris_headers.csv\", true)\n",
    "\tif err != nil {\n",
    "\t\tpanic(err)\n",
    "\t}\n",
    "\n",
    "\t//Initialises a new KNN classifier\n",
    "\tcls := knn.NewKnnClassifier(\"euclidean\", \"linear\", 2)\n",
    "\n",
    "\t//Do a training-test split\n",
    "\ttrainData, testData := base.InstancesTrainTestSplit(rawData, 0.50)\n",
    "\tcls.Fit(trainData)\n",
    "\n",
    "\t//Calculates the Euclidean distance and returns the most popular label\n",
    "\tpredictions, err := cls.Predict(testData)\n",
    "\tif err != nil {\n",
    "\t\tpanic(err)\n",
    "\t}\n",
    "\tfmt.Println(predictions)\n",
    "\n",
    "\t// Prints precision/recall metrics\n",
    "\tconfusionMat, err := evaluation.GetConfusionMatrix(testData, predictions)\n",
    "\tif err != nil {\n",
    "\t\tpanic(fmt.Sprintf(\"Unable to get confusion matrix: %s\", err.Error()))\n",
    "\t}\n",
    "\tfmt.Println(evaluation.GetSummary(confusionMat))\n",
    "}"
   ]
  },
  {
   "cell_type": "code",
   "execution_count": 4,
   "id": "4004ab6c-cfbc-4016-a365-8b8119d7ffa3",
   "metadata": {},
   "outputs": [
    {
     "name": "stderr",
     "output_type": "stream",
     "text": [
      "go: downloading github.com/sergeiten/golearn v0.0.0-20200526065033-56f048dc5a03\n",
      "go: downloading github.com/pkg/errors v0.8.1\n",
      "package github.com/sergeiten/golearn is not a main package\n",
      "exit status 1\n"
     ]
    }
   ],
   "source": [
    "! go install github.com/sergeiten/golearn@latest"
   ]
  },
  {
   "cell_type": "code",
   "execution_count": 6,
   "id": "a4570a35-0b8d-4aa9-a3a1-ccfd6bbd558d",
   "metadata": {},
   "outputs": [
    {
     "name": "stdout",
     "output_type": "stream",
     "text": [
      "Hello, World!\n"
     ]
    }
   ],
   "source": [
    "\n",
    "import (\n",
    "\t\"fmt\"\n",
    "\t\"github.com/sergeiten/golearn\"\n",
    ")\n",
    "\n",
    "func main() {\n",
    "\tfmt.Println(\"Hello, World!\")\n",
    "\t// Use golearn package here\n",
    "}"
   ]
  },
  {
   "cell_type": "code",
   "execution_count": 7,
   "id": "73a9d74c-c125-4a03-b786-5c0751d954b8",
   "metadata": {},
   "outputs": [
    {
     "name": "stderr",
     "output_type": "stream",
     "text": [
      "package github.com/sergeiten/golearn is not a main package\n",
      "exit status 1\n"
     ]
    }
   ],
   "source": [
    "!go install -v github.com/sergeiten/golearn@latest"
   ]
  },
  {
   "cell_type": "code",
   "execution_count": null,
   "id": "380b9a56-19d9-4739-bec7-949909fcb3d4",
   "metadata": {},
   "outputs": [],
   "source": []
  }
 ],
 "metadata": {
  "kernelspec": {
   "display_name": "Go (gonb)",
   "language": "go",
   "name": "gonb"
  },
  "language_info": {
   "codemirror_mode": "",
   "file_extension": ".go",
   "mimetype": "",
   "name": "go",
   "nbconvert_exporter": "",
   "pygments_lexer": "",
   "version": "go1.22.2"
  }
 },
 "nbformat": 4,
 "nbformat_minor": 5
}
